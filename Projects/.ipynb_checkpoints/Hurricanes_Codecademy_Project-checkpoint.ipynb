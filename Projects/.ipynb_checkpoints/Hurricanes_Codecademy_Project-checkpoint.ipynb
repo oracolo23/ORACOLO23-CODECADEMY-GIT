{
 "cells": [
  {
   "cell_type": "code",
   "execution_count": 3,
   "id": "128720bd",
   "metadata": {},
   "outputs": [],
   "source": [
    "# names of hurricanes\n",
    "names = ['Cuba I', 'San Felipe II Okeechobee', 'Bahamas', 'Cuba II', 'CubaBrownsville', 'Tampico', 'Labor Day', 'New England', 'Carol', 'Janet', 'Carla', 'Hattie', 'Beulah', 'Camille', 'Edith', 'Anita', 'David', 'Allen', 'Gilbert', 'Hugo', 'Andrew', 'Mitch', 'Isabel', 'Ivan', 'Emily', 'Katrina', 'Rita', 'Wilma', 'Dean', 'Felix', 'Matthew', 'Irma', 'Maria', 'Michael']\n",
    "\n",
    "# months of hurricanes\n",
    "months = ['October', 'September', 'September', 'November', 'August', 'September', 'September', 'September', 'September', 'September', 'September', 'October', 'September', 'August', 'September', 'September', 'August', 'August', 'September', 'September', 'August', 'October', 'September', 'September', 'July', 'August', 'September', 'October', 'August', 'September', 'October', 'September', 'September', 'October']\n",
    "\n",
    "# years of hurricanes\n",
    "years = [1924, 1928, 1932, 1932, 1933, 1933, 1935, 1938, 1953, 1955, 1961, 1961, 1967, 1969, 1971, 1977, 1979, 1980, 1988, 1989, 1992, 1998, 2003, 2004, 2005, 2005, 2005, 2005, 2007, 2007, 2016, 2017, 2017, 2018]\n",
    "\n",
    "# maximum sustained winds (mph) of hurricanes\n",
    "max_sustained_winds = [165, 160, 160, 175, 160, 160, 185, 160, 160, 175, 175, 160, 160, 175, 160, 175, 175, 190, 185, 160, 175, 180, 165, 165, 160, 175, 180, 185, 175, 175, 165, 180, 175, 160]\n",
    "\n",
    "# areas affected by each hurricane\n",
    "areas_affected = [['Central America', 'Mexico', 'Cuba', 'Florida', 'The Bahamas'], ['Lesser Antilles', 'The Bahamas', 'United States East Coast', 'Atlantic Canada'], ['The Bahamas', 'Northeastern United States'], ['Lesser Antilles', 'Jamaica', 'Cayman Islands', 'Cuba', 'The Bahamas', 'Bermuda'], ['The Bahamas', 'Cuba', 'Florida', 'Texas', 'Tamaulipas'], ['Jamaica', 'Yucatn Peninsula'], ['The Bahamas', 'Florida', 'Georgia', 'The Carolinas', 'Virginia'], ['Southeastern United States', 'Northeastern United States', 'Southwestern Quebec'], ['Bermuda', 'New England', 'Atlantic Canada'], ['Lesser Antilles', 'Central America'], ['Texas', 'Louisiana', 'Midwestern United States'], ['Central America'], ['The Caribbean', 'Mexico', 'Texas'], ['Cuba', 'United States Gulf Coast'], ['The Caribbean', 'Central America', 'Mexico', 'United States Gulf Coast'], ['Mexico'], ['The Caribbean', 'United States East coast'], ['The Caribbean', 'Yucatn Peninsula', 'Mexico', 'South Texas'], ['Jamaica', 'Venezuela', 'Central America', 'Hispaniola', 'Mexico'], ['The Caribbean', 'United States East Coast'], ['The Bahamas', 'Florida', 'United States Gulf Coast'], ['Central America', 'Yucatn Peninsula', 'South Florida'], ['Greater Antilles', 'Bahamas', 'Eastern United States', 'Ontario'], ['The Caribbean', 'Venezuela', 'United States Gulf Coast'], ['Windward Islands', 'Jamaica', 'Mexico', 'Texas'], ['Bahamas', 'United States Gulf Coast'], ['Cuba', 'United States Gulf Coast'], ['Greater Antilles', 'Central America', 'Florida'], ['The Caribbean', 'Central America'], ['Nicaragua', 'Honduras'], ['Antilles', 'Venezuela', 'Colombia', 'United States East Coast', 'Atlantic Canada'], ['Cape Verde', 'The Caribbean', 'British Virgin Islands', 'U.S. Virgin Islands', 'Cuba', 'Florida'], ['Lesser Antilles', 'Virgin Islands', 'Puerto Rico', 'Dominican Republic', 'Turks and Caicos Islands'], ['Central America', 'United States Gulf Coast (especially Florida Panhandle)']]\n",
    "\n",
    "# damages (USD($)) of hurricanes\n",
    "damages = ['Damages not recorded', '100M', 'Damages not recorded', '40M', '27.9M', '5M', 'Damages not recorded', '306M', '2M', '65.8M', '326M', '60.3M', '208M', '1.42B', '25.4M', 'Damages not recorded', '1.54B', '1.24B', '7.1B', '10B', '26.5B', '6.2B', '5.37B', '23.3B', '1.01B', '125B', '12B', '29.4B', '1.76B', '720M', '15.1B', '64.8B', '91.6B', '25.1B']\n",
    "\n",
    "# deaths for each hurricane\n",
    "deaths = [90,4000,16,3103,179,184,408,682,5,1023,43,319,688,259,37,11,2068,269,318,107,65,19325,51,124,17,1836,125,87,45,133,603,138,3057,74]\n"
   ]
  },
  {
   "cell_type": "code",
   "execution_count": 4,
   "id": "974d126a",
   "metadata": {},
   "outputs": [],
   "source": [
    "#defining function that will accept list of damages and will return new list with updated float values\n",
    "\n",
    "def damage_updater(list_of_damages):\n",
    "    \n",
    "    updated_damage_list = []\n",
    "    conversion = {\"M\": 1000000, \"B\": 1000000000}\n",
    "    \n",
    "    for cost in damages:\n",
    "        if cost == \"Damages not recorded\":\n",
    "            updated_damage_list.append(cost)\n",
    "        if cost.find(\"M\") != -1:\n",
    "            updated_damage_list.append(float(cost[0:cost.find(\"M\")]) * conversion[\"M\"])\n",
    "        if cost.find(\"B\") != -1:\n",
    "            updated_damage_list.append(float(cost[0:cost.find(\"B\")]) * conversion[\"B\"])\n",
    "                                       \n",
    "    return updated_damage_list"
   ]
  },
  {
   "cell_type": "code",
   "execution_count": 5,
   "id": "ed652a04",
   "metadata": {},
   "outputs": [],
   "source": [
    "updated_damage_list = damage_updater(damages)\n",
    "damages = updated_damage_list"
   ]
  },
  {
   "cell_type": "code",
   "execution_count": 6,
   "id": "b1482f1e",
   "metadata": {},
   "outputs": [],
   "source": [
    "\n",
    "\n",
    "def dict_constructor_name(name, month, year, max_wind, affected_area, damage, death):\n",
    "    \n",
    "    hurricanes = {}\n",
    "    i = 0\n",
    "    for i in range(len(names)):\n",
    "        hurricanes[names[i]] = {\"Name\": names[i], \"Month\": months[i], \"Year\": years[i], \"Max Sustained Winds\": max_sustained_winds[i], \"Areas Affected\": areas_affected[i], \"Damage\": damages[i], \"Deaths\": deaths[i] }\n",
    "    \n",
    "    return hurricanes\n",
    "    \n",
    "    "
   ]
  },
  {
   "cell_type": "code",
   "execution_count": 7,
   "id": "8475ffec",
   "metadata": {},
   "outputs": [],
   "source": [
    "hurricanes_by_name = dict_constructor_name(names, months, years, max_sustained_winds,areas_affected, updated_damage_list, deaths)"
   ]
  },
  {
   "cell_type": "code",
   "execution_count": 8,
   "id": "da7ee325",
   "metadata": {},
   "outputs": [],
   "source": [
    "def dict_constructor_year(name, month, year, max_wind, affected_area, damage, death):\n",
    "    \n",
    "    hurricanes = {}\n",
    "    i = 0\n",
    "    for i in range(len(years)):\n",
    "        hurricanes[years[i]] = {\"Name\": names[i], \"Month\": months[i], \"Year\": years[i], \"Max Sustained Winds\": max_sustained_winds[i], \"Areas Affected\": areas_affected[i], \"Damage\": damages[i], \"Deaths\": deaths[i] }\n",
    "    \n",
    "    return hurricanes"
   ]
  },
  {
   "cell_type": "code",
   "execution_count": 9,
   "id": "deee6cf1",
   "metadata": {},
   "outputs": [],
   "source": [
    "hurricanes_by_year = dict_constructor_year(names, months, years, max_sustained_winds,areas_affected, updated_damage_list, deaths)"
   ]
  },
  {
   "cell_type": "code",
   "execution_count": 10,
   "id": "16fa057c",
   "metadata": {},
   "outputs": [],
   "source": [
    "def affected_area_calculator(hurricanes):\n",
    "    areas_counter = {}\n",
    "    for areas in hurricanes_by_name:\n",
    "        for area in hurricanes_by_name[areas][\"Areas Affected\"]:\n",
    "            if area not in areas_counter:\n",
    "                areas_counter[area] = 1\n",
    "            else:\n",
    "                areas_counter[area] += 1\n",
    "            \n",
    "                \n",
    "\n",
    "\n",
    "    return areas_counter\n",
    "\n"
   ]
  },
  {
   "cell_type": "code",
   "execution_count": 11,
   "id": "528091cb",
   "metadata": {
    "scrolled": true
   },
   "outputs": [],
   "source": [
    "\n",
    "affected_areas_counter = affected_area_calculator(hurricanes_by_name)"
   ]
  },
  {
   "cell_type": "code",
   "execution_count": 12,
   "id": "c583e5f5",
   "metadata": {},
   "outputs": [],
   "source": [
    "def max_affected_area(affected_areas):\n",
    "    max_area = \"Central America\"\n",
    "    max_area_count = 0\n",
    "        \n",
    "    for areas in affected_areas_counter:\n",
    "        if affected_areas_counter[areas] > max_area_count:\n",
    "            max_area = areas\n",
    "            max_area_count = affected_areas_counter[areas]\n",
    "        \n",
    "        \n",
    "    return  max_area, max_area_count"
   ]
  },
  {
   "cell_type": "code",
   "execution_count": 13,
   "id": "afdb48a1",
   "metadata": {},
   "outputs": [
    {
     "data": {
      "text/plain": [
       "('Central America', 9)"
      ]
     },
     "execution_count": 13,
     "metadata": {},
     "output_type": "execute_result"
    }
   ],
   "source": [
    "max_affected_area(affected_areas_counter)"
   ]
  },
  {
   "cell_type": "code",
   "execution_count": 14,
   "id": "95a07542",
   "metadata": {},
   "outputs": [],
   "source": [
    "def max_caused_deaths(hurricanes):\n",
    "    max_name = \" \"\n",
    "    max_death_count = 0\n",
    "        \n",
    "    for hurricanes in hurricanes_by_name:\n",
    "        if  hurricanes_by_name [hurricanes][\"Deaths\"] > max_death_count:\n",
    "            max_name = hurricanes\n",
    "            max_death_count = hurricanes_by_name [hurricanes][\"Deaths\"]\n",
    "        \n",
    "        \n",
    "    return  max_name, max_death_count"
   ]
  },
  {
   "cell_type": "code",
   "execution_count": 15,
   "id": "664073a0",
   "metadata": {},
   "outputs": [
    {
     "data": {
      "text/plain": [
       "('Mitch', 19325)"
      ]
     },
     "execution_count": 15,
     "metadata": {},
     "output_type": "execute_result"
    }
   ],
   "source": [
    "max_caused_deaths(hurricanes_by_name)"
   ]
  },
  {
   "cell_type": "code",
   "execution_count": 16,
   "id": "521c1b96",
   "metadata": {},
   "outputs": [],
   "source": [
    "def mortality_dict_constructor(hurricanes):\n",
    "    mortality_scale = {0: 0, 1: 100, 2: 500, 3: 1000, 4: 10000}\n",
    "    mortality_dict = {0:{}, 1:{}, 2:{}, 3:{}, 4:{}}\n",
    "    mortality_zero = []\n",
    "    mortality_one = []\n",
    "    mortality_two = []\n",
    "    mortality_three = []\n",
    "    mortality_four = []\n",
    "    \n",
    "    \n",
    "    for hurricane_name, hurricane_data in hurricanes.items() :\n",
    "        if hurricane_data[\"Deaths\"] > 10000:\n",
    "            mortality_four.append(hurricane_name)\n",
    "        if hurricane_data[\"Deaths\"] < 10000 and hurricane_data[\"Deaths\"] > 1000:\n",
    "            mortality_three.append(hurricane_name)\n",
    "        if hurricane_data[\"Deaths\"] < 1000 and hurricane_data[\"Deaths\"] > 100:\n",
    "            mortality_two.append(hurricane_name)\n",
    "        if hurricane_data[\"Deaths\"] > 0 and hurricane_data[\"Deaths\"] < 100: \n",
    "            mortality_one.append(hurricane_name)\n",
    "        else:\n",
    "            mortality_zero.append(hurricane_name)\n",
    "            \n",
    "    mortality_dict[0] = mortality_zero\n",
    "    mortality_dict[1] = mortality_one\n",
    "    mortality_dict[2] = mortality_two\n",
    "    mortality_dict[3] = mortality_three\n",
    "    mortality_dict[4] = mortality_four\n",
    "    return mortality_dict"
   ]
  },
  {
   "cell_type": "code",
   "execution_count": 17,
   "id": "2170a04e",
   "metadata": {},
   "outputs": [],
   "source": [
    "mortality_dict = mortality_dict_constructor(hurricanes_by_name)"
   ]
  },
  {
   "cell_type": "code",
   "execution_count": 18,
   "id": "3988e896",
   "metadata": {},
   "outputs": [
    {
     "name": "stdout",
     "output_type": "stream",
     "text": [
      "(0, ['San Felipe II Okeechobee', 'Cuba II', 'CubaBrownsville', 'Tampico', 'Labor Day', 'New England', 'Janet', 'Hattie', 'Beulah', 'Camille', 'David', 'Allen', 'Gilbert', 'Hugo', 'Mitch', 'Ivan', 'Katrina', 'Rita', 'Felix', 'Matthew', 'Irma', 'Maria'])\n",
      "\n",
      "\n",
      "(1, ['Cuba I', 'Bahamas', 'Carol', 'Carla', 'Edith', 'Anita', 'Andrew', 'Isabel', 'Emily', 'Wilma', 'Dean', 'Michael'])\n",
      "\n",
      "\n",
      "(2, ['CubaBrownsville', 'Tampico', 'Labor Day', 'New England', 'Hattie', 'Beulah', 'Camille', 'Allen', 'Gilbert', 'Hugo', 'Ivan', 'Rita', 'Felix', 'Matthew', 'Irma'])\n",
      "\n",
      "\n",
      "(3, ['San Felipe II Okeechobee', 'Cuba II', 'Janet', 'David', 'Katrina', 'Maria'])\n",
      "\n",
      "\n",
      "(4, ['Mitch'])\n",
      "\n",
      "\n"
     ]
    }
   ],
   "source": [
    "for element in mortality_dict.items():\n",
    "    print(element)\n",
    "    print(\"\\n\")"
   ]
  },
  {
   "cell_type": "code",
   "execution_count": 19,
   "id": "129341d7",
   "metadata": {},
   "outputs": [
    {
     "name": "stdout",
     "output_type": "stream",
     "text": [
      "{'Cuba I': {'Name': 'Cuba I', 'Month': 'October', 'Year': 1924, 'Max Sustained Winds': 165, 'Areas Affected': ['Central America', 'Mexico', 'Cuba', 'Florida', 'The Bahamas'], 'Damage': 'Damages not recorded', 'Deaths': 90}, 'San Felipe II Okeechobee': {'Name': 'San Felipe II Okeechobee', 'Month': 'September', 'Year': 1928, 'Max Sustained Winds': 160, 'Areas Affected': ['Lesser Antilles', 'The Bahamas', 'United States East Coast', 'Atlantic Canada'], 'Damage': 100000000.0, 'Deaths': 4000}, 'Bahamas': {'Name': 'Bahamas', 'Month': 'September', 'Year': 1932, 'Max Sustained Winds': 160, 'Areas Affected': ['The Bahamas', 'Northeastern United States'], 'Damage': 'Damages not recorded', 'Deaths': 16}, 'Cuba II': {'Name': 'Cuba II', 'Month': 'November', 'Year': 1932, 'Max Sustained Winds': 175, 'Areas Affected': ['Lesser Antilles', 'Jamaica', 'Cayman Islands', 'Cuba', 'The Bahamas', 'Bermuda'], 'Damage': 40000000.0, 'Deaths': 3103}, 'CubaBrownsville': {'Name': 'CubaBrownsville', 'Month': 'August', 'Year': 1933, 'Max Sustained Winds': 160, 'Areas Affected': ['The Bahamas', 'Cuba', 'Florida', 'Texas', 'Tamaulipas'], 'Damage': 27900000.0, 'Deaths': 179}, 'Tampico': {'Name': 'Tampico', 'Month': 'September', 'Year': 1933, 'Max Sustained Winds': 160, 'Areas Affected': ['Jamaica', 'Yucatn Peninsula'], 'Damage': 5000000.0, 'Deaths': 184}, 'Labor Day': {'Name': 'Labor Day', 'Month': 'September', 'Year': 1935, 'Max Sustained Winds': 185, 'Areas Affected': ['The Bahamas', 'Florida', 'Georgia', 'The Carolinas', 'Virginia'], 'Damage': 'Damages not recorded', 'Deaths': 408}, 'New England': {'Name': 'New England', 'Month': 'September', 'Year': 1938, 'Max Sustained Winds': 160, 'Areas Affected': ['Southeastern United States', 'Northeastern United States', 'Southwestern Quebec'], 'Damage': 306000000.0, 'Deaths': 682}, 'Carol': {'Name': 'Carol', 'Month': 'September', 'Year': 1953, 'Max Sustained Winds': 160, 'Areas Affected': ['Bermuda', 'New England', 'Atlantic Canada'], 'Damage': 2000000.0, 'Deaths': 5}, 'Janet': {'Name': 'Janet', 'Month': 'September', 'Year': 1955, 'Max Sustained Winds': 175, 'Areas Affected': ['Lesser Antilles', 'Central America'], 'Damage': 65800000.0, 'Deaths': 1023}, 'Carla': {'Name': 'Carla', 'Month': 'September', 'Year': 1961, 'Max Sustained Winds': 175, 'Areas Affected': ['Texas', 'Louisiana', 'Midwestern United States'], 'Damage': 326000000.0, 'Deaths': 43}, 'Hattie': {'Name': 'Hattie', 'Month': 'October', 'Year': 1961, 'Max Sustained Winds': 160, 'Areas Affected': ['Central America'], 'Damage': 60300000.0, 'Deaths': 319}, 'Beulah': {'Name': 'Beulah', 'Month': 'September', 'Year': 1967, 'Max Sustained Winds': 160, 'Areas Affected': ['The Caribbean', 'Mexico', 'Texas'], 'Damage': 208000000.0, 'Deaths': 688}, 'Camille': {'Name': 'Camille', 'Month': 'August', 'Year': 1969, 'Max Sustained Winds': 175, 'Areas Affected': ['Cuba', 'United States Gulf Coast'], 'Damage': 1420000000.0, 'Deaths': 259}, 'Edith': {'Name': 'Edith', 'Month': 'September', 'Year': 1971, 'Max Sustained Winds': 160, 'Areas Affected': ['The Caribbean', 'Central America', 'Mexico', 'United States Gulf Coast'], 'Damage': 25400000.0, 'Deaths': 37}, 'Anita': {'Name': 'Anita', 'Month': 'September', 'Year': 1977, 'Max Sustained Winds': 175, 'Areas Affected': ['Mexico'], 'Damage': 'Damages not recorded', 'Deaths': 11}, 'David': {'Name': 'David', 'Month': 'August', 'Year': 1979, 'Max Sustained Winds': 175, 'Areas Affected': ['The Caribbean', 'United States East coast'], 'Damage': 1540000000.0, 'Deaths': 2068}, 'Allen': {'Name': 'Allen', 'Month': 'August', 'Year': 1980, 'Max Sustained Winds': 190, 'Areas Affected': ['The Caribbean', 'Yucatn Peninsula', 'Mexico', 'South Texas'], 'Damage': 1240000000.0, 'Deaths': 269}, 'Gilbert': {'Name': 'Gilbert', 'Month': 'September', 'Year': 1988, 'Max Sustained Winds': 185, 'Areas Affected': ['Jamaica', 'Venezuela', 'Central America', 'Hispaniola', 'Mexico'], 'Damage': 7100000000.0, 'Deaths': 318}, 'Hugo': {'Name': 'Hugo', 'Month': 'September', 'Year': 1989, 'Max Sustained Winds': 160, 'Areas Affected': ['The Caribbean', 'United States East Coast'], 'Damage': 10000000000.0, 'Deaths': 107}, 'Andrew': {'Name': 'Andrew', 'Month': 'August', 'Year': 1992, 'Max Sustained Winds': 175, 'Areas Affected': ['The Bahamas', 'Florida', 'United States Gulf Coast'], 'Damage': 26500000000.0, 'Deaths': 65}, 'Mitch': {'Name': 'Mitch', 'Month': 'October', 'Year': 1998, 'Max Sustained Winds': 180, 'Areas Affected': ['Central America', 'Yucatn Peninsula', 'South Florida'], 'Damage': 6200000000.0, 'Deaths': 19325}, 'Isabel': {'Name': 'Isabel', 'Month': 'September', 'Year': 2003, 'Max Sustained Winds': 165, 'Areas Affected': ['Greater Antilles', 'Bahamas', 'Eastern United States', 'Ontario'], 'Damage': 5370000000.0, 'Deaths': 51}, 'Ivan': {'Name': 'Ivan', 'Month': 'September', 'Year': 2004, 'Max Sustained Winds': 165, 'Areas Affected': ['The Caribbean', 'Venezuela', 'United States Gulf Coast'], 'Damage': 23300000000.0, 'Deaths': 124}, 'Emily': {'Name': 'Emily', 'Month': 'July', 'Year': 2005, 'Max Sustained Winds': 160, 'Areas Affected': ['Windward Islands', 'Jamaica', 'Mexico', 'Texas'], 'Damage': 1010000000.0, 'Deaths': 17}, 'Katrina': {'Name': 'Katrina', 'Month': 'August', 'Year': 2005, 'Max Sustained Winds': 175, 'Areas Affected': ['Bahamas', 'United States Gulf Coast'], 'Damage': 125000000000.0, 'Deaths': 1836}, 'Rita': {'Name': 'Rita', 'Month': 'September', 'Year': 2005, 'Max Sustained Winds': 180, 'Areas Affected': ['Cuba', 'United States Gulf Coast'], 'Damage': 12000000000.0, 'Deaths': 125}, 'Wilma': {'Name': 'Wilma', 'Month': 'October', 'Year': 2005, 'Max Sustained Winds': 185, 'Areas Affected': ['Greater Antilles', 'Central America', 'Florida'], 'Damage': 29400000000.0, 'Deaths': 87}, 'Dean': {'Name': 'Dean', 'Month': 'August', 'Year': 2007, 'Max Sustained Winds': 175, 'Areas Affected': ['The Caribbean', 'Central America'], 'Damage': 1760000000.0, 'Deaths': 45}, 'Felix': {'Name': 'Felix', 'Month': 'September', 'Year': 2007, 'Max Sustained Winds': 175, 'Areas Affected': ['Nicaragua', 'Honduras'], 'Damage': 720000000.0, 'Deaths': 133}, 'Matthew': {'Name': 'Matthew', 'Month': 'October', 'Year': 2016, 'Max Sustained Winds': 165, 'Areas Affected': ['Antilles', 'Venezuela', 'Colombia', 'United States East Coast', 'Atlantic Canada'], 'Damage': 15100000000.0, 'Deaths': 603}, 'Irma': {'Name': 'Irma', 'Month': 'September', 'Year': 2017, 'Max Sustained Winds': 180, 'Areas Affected': ['Cape Verde', 'The Caribbean', 'British Virgin Islands', 'U.S. Virgin Islands', 'Cuba', 'Florida'], 'Damage': 64800000000.0, 'Deaths': 138}, 'Maria': {'Name': 'Maria', 'Month': 'September', 'Year': 2017, 'Max Sustained Winds': 175, 'Areas Affected': ['Lesser Antilles', 'Virgin Islands', 'Puerto Rico', 'Dominican Republic', 'Turks and Caicos Islands'], 'Damage': 91600000000.0, 'Deaths': 3057}, 'Michael': {'Name': 'Michael', 'Month': 'October', 'Year': 2018, 'Max Sustained Winds': 160, 'Areas Affected': ['Central America', 'United States Gulf Coast (especially Florida Panhandle)'], 'Damage': 25100000000.0, 'Deaths': 74}}\n"
     ]
    }
   ],
   "source": [
    "print(hurricanes_by_name)"
   ]
  },
  {
   "cell_type": "code",
   "execution_count": 20,
   "id": "0ebdb117",
   "metadata": {},
   "outputs": [],
   "source": [
    "def max_caused_damages(hurricanes):\n",
    "    max_name = \" \"\n",
    "    max_damage_count = 0\n",
    "        \n",
    "    for hurricane_name, hurricane_data in hurricanes.items():\n",
    "        print(hurricane_data[\"Damage\"])\n",
    "                \n",
    "        if hurricane_data[\"Damage\"] == \"Damages not recorded\":\n",
    "            max_name = max_name\n",
    "            max_damage_count += 0\n",
    "            print(\"found one\")\n",
    "        \n",
    "        elif hurricane_data[\"Damage\"] >  float(max_damage_count):\n",
    "            max_name = hurricane_data[\"Name\"]\n",
    "            max_damage_count = hurricane_data[\"Damage\"]\n",
    "        \n",
    "    return max_name, max_damage_count"
   ]
  },
  {
   "cell_type": "code",
   "execution_count": 21,
   "id": "3ed58b03",
   "metadata": {},
   "outputs": [
    {
     "name": "stdout",
     "output_type": "stream",
     "text": [
      "Damages not recorded\n",
      "found one\n",
      "100000000.0\n",
      "Damages not recorded\n",
      "found one\n",
      "40000000.0\n",
      "27900000.0\n",
      "5000000.0\n",
      "Damages not recorded\n",
      "found one\n",
      "306000000.0\n",
      "2000000.0\n",
      "65800000.0\n",
      "326000000.0\n",
      "60300000.0\n",
      "208000000.0\n",
      "1420000000.0\n",
      "25400000.0\n",
      "Damages not recorded\n",
      "found one\n",
      "1540000000.0\n",
      "1240000000.0\n",
      "7100000000.0\n",
      "10000000000.0\n",
      "26500000000.0\n",
      "6200000000.0\n",
      "5370000000.0\n",
      "23300000000.0\n",
      "1010000000.0\n",
      "125000000000.0\n",
      "12000000000.0\n",
      "29400000000.0\n",
      "1760000000.0\n",
      "720000000.0\n",
      "15100000000.0\n",
      "64800000000.0\n",
      "91600000000.0\n",
      "25100000000.0\n"
     ]
    },
    {
     "data": {
      "text/plain": [
       "('Katrina', 125000000000.0)"
      ]
     },
     "execution_count": 21,
     "metadata": {},
     "output_type": "execute_result"
    }
   ],
   "source": [
    "max_caused_damages(hurricanes_by_name)"
   ]
  },
  {
   "cell_type": "code",
   "execution_count": 22,
   "id": "8f1379e3",
   "metadata": {},
   "outputs": [],
   "source": [
    "def damages_scale_dict_constructor(hurricanes):\n",
    "    damage_scale = {0: 0, 1: 100000000, 2: 1000000000, 3: 10000000000, 4: 50000000000}\n",
    "    damage_dict = {0:[], 1:[], 2:[], 3:[], 4:[], 5: []}\n",
    "    \n",
    "    \n",
    "    \n",
    "    for hurricane_name, hurricane_data in hurricanes.items() :\n",
    "        \n",
    "        if hurricane_data[\"Damage\"] == \"Damages not recorded\":\n",
    "            damage_dict[0].append(hurricane_name)\n",
    "        \n",
    "        elif hurricane_data[\"Damage\"] == 0 : \n",
    "            damage_dict[0].append(hurricane_name) \n",
    "        \n",
    "        elif hurricane_data[\"Damage\"] <= damage_scale[1] : \n",
    "            damage_dict[0].append(hurricane_name)\n",
    "        elif hurricane_data[\"Damage\"] <= damage_scale[2] : \n",
    "            damage_dict[1].append(hurricane_name)\n",
    "        elif hurricane_data[\"Damage\"] <= damage_scale[3] : \n",
    "            damage_dict[2].append(hurricane_name)\n",
    "        elif hurricane_data[\"Damage\"] <= damage_scale[4] : \n",
    "            damage_dict[3].append(hurricane_name)\n",
    "        elif hurricane_data[\"Damage\"] > damage_scale[4] :  \n",
    "            damage_dict[4].append(hurricane_name)\n",
    "            \n",
    "    \n",
    "    return damage_dict"
   ]
  },
  {
   "cell_type": "code",
   "execution_count": 23,
   "id": "4b493a99",
   "metadata": {},
   "outputs": [],
   "source": [
    "damage_dict = damages_scale_dict_constructor(hurricanes_by_name)"
   ]
  },
  {
   "cell_type": "code",
   "execution_count": 24,
   "id": "9f088dec",
   "metadata": {},
   "outputs": [
    {
     "name": "stdout",
     "output_type": "stream",
     "text": [
      "{0: ['Cuba I', 'San Felipe II Okeechobee', 'Bahamas', 'Cuba II', 'CubaBrownsville', 'Tampico', 'Labor Day', 'Carol', 'Janet', 'Hattie', 'Edith', 'Anita'], 1: ['New England', 'Carla', 'Beulah', 'Felix'], 2: ['Camille', 'David', 'Allen', 'Gilbert', 'Hugo', 'Mitch', 'Isabel', 'Emily', 'Dean'], 3: ['Andrew', 'Ivan', 'Rita', 'Wilma', 'Matthew', 'Michael'], 4: ['Katrina', 'Irma', 'Maria'], 5: []}\n"
     ]
    }
   ],
   "source": [
    "print(damage_dict)"
   ]
  },
  {
   "cell_type": "code",
   "execution_count": null,
   "id": "1e5668a7",
   "metadata": {},
   "outputs": [],
   "source": []
  },
  {
   "cell_type": "code",
   "execution_count": null,
   "id": "ba221b18",
   "metadata": {},
   "outputs": [],
   "source": []
  }
 ],
 "metadata": {
  "kernelspec": {
   "display_name": "Python 3 (ipykernel)",
   "language": "python",
   "name": "python3"
  },
  "language_info": {
   "codemirror_mode": {
    "name": "ipython",
    "version": 3
   },
   "file_extension": ".py",
   "mimetype": "text/x-python",
   "name": "python",
   "nbconvert_exporter": "python",
   "pygments_lexer": "ipython3",
   "version": "3.9.7"
  }
 },
 "nbformat": 4,
 "nbformat_minor": 5
}
