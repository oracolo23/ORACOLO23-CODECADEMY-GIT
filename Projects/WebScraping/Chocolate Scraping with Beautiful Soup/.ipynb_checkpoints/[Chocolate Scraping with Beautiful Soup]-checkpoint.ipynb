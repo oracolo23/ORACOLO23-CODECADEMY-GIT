{
 "cells": [
  {
   "cell_type": "markdown",
   "metadata": {},
   "source": [
    "# Chocolate Scraping with Beautiful Soup"
   ]
  },
  {
   "cell_type": "markdown",
   "metadata": {},
   "source": [
    "After eating chocolate bars your whole life, you've decided to go on a quest to find the greatest chocolate bar in the world.\n",
    "\n",
    "You've found a website that has over 1700 reviews of chocolate bars from all around the world. It's linked below the text for the first task.\n",
    "\n",
    "The data is displayed in a table, instead of in a `csv` or `json`. Thankfully, we have the power of BeautifulSoup that will help us transform this webpage into a DataFrame that we can manipulate and analyze.\n",
    "\n",
    "The rating scale is from 1-5, as described in <a href=\"http://flavorsofcacao.com/review_guide.html\">this review guide</a>. A `1` is \"unpleasant\" chocolate, while a `5` is a bar that transcends \"beyond the ordinary limits\".\n",
    "\n",
    "Some questions we thought about when we found this dataset were:\n",
    " - Where are the best cocao beans grown?\n",
    " - Which countries produce the highest-rated bars?\n",
    " - What's the relationship between cocao solids percentage and rating?\n",
    " \n",
    "Can we find a way to answer these questions, or uncover more questions, using BeautifulSoup and Pandas?"
   ]
  },
  {
   "cell_type": "markdown",
   "metadata": {},
   "source": [
    "## Make Some Chocolate Soup"
   ]
  },
  {
   "cell_type": "markdown",
   "metadata": {},
   "source": [
    "1. Explore the webpage displayed in the browser. What elements could be useful to scrape here? Which elements do we _not_ want to scrape?"
   ]
  },
  {
   "cell_type": "markdown",
   "metadata": {},
   "source": [
    "https://content.codecademy.com/courses/beautifulsoup/cacao/index.html"
   ]
  },
  {
   "cell_type": "markdown",
   "metadata": {},
   "source": [
    "List of Tags to Include: table, tbody, tr, td"
   ]
  },
  {
   "cell_type": "markdown",
   "metadata": {},
   "source": [
    "List of Tags to Exclude: top divs(id = \"banner, infoContainer, picContainer\")"
   ]
  },
  {
   "cell_type": "markdown",
   "metadata": {},
   "source": [
    "2. Let's make a request to this stie to get the raw HTML, which we can later turn into a BeautifulSoup object.\n",
    "\n",
    "   The URL is\n",
    "\n",
    "```\n",
    "https://content.codecademy.com/courses/beautifulsoup/cacao/index.html\n",
    "```\n",
    "   \n",
    "   You can pass this into the `.get()` method of the `requests` module to get the HTML."
   ]
  },
  {
   "cell_type": "code",
   "execution_count": 10,
   "metadata": {
    "scrolled": true,
    "tags": []
   },
   "outputs": [],
   "source": [
    "import requests\n",
    "from bs4 import BeautifulSoup\n",
    "\n",
    "# requesting HTML module to URL website using .get() request module\n",
    "choco_webpage = requests.get('https://content.codecademy.com/courses/beautifulsoup/cacao/index.html')\n"
   ]
  },
  {
   "cell_type": "markdown",
   "metadata": {},
   "source": [
    "3. Create a BeautifulSoup object called `soup` to traverse this HTML.\n",
    "\n",
    "   Use `\"html.parser\"` as the parser, and the content of the response you got from your request as the document."
   ]
  },
  {
   "cell_type": "code",
   "execution_count": 11,
   "metadata": {
    "scrolled": true
   },
   "outputs": [],
   "source": [
    "# Creating BeautifulSoup Object to parse the HTML and extract only desired tags later\n",
    "\n",
    "soup = BeautifulSoup(choco_webpage.content, 'html.parser')\n"
   ]
  },
  {
   "cell_type": "markdown",
   "metadata": {},
   "source": [
    "4. If you want, print out the `soup` object to explore the HTML.\n",
    "\n",
    "   So many table rows! You're probably very relieved that we don't have to scrape this information by hand."
   ]
  },
  {
   "cell_type": "markdown",
   "metadata": {
    "tags": []
   },
   "source": [
    "## How are ratings distributed?"
   ]
  },
  {
   "cell_type": "markdown",
   "metadata": {},
   "source": [
    "5. How many terrible chocolate bars are out there? And how many earned a perfect 5? Let's make a histogram of this data.\n",
    "\n",
    "   The first thing to do is to put all of the ratings into a list.\n",
    "   \n",
    "   Use a command on the `soup` object to get all of the tags that contain the ratings."
   ]
  },
  {
   "cell_type": "code",
   "execution_count": 12,
   "metadata": {
    "tags": []
   },
   "outputs": [
    {
     "data": {
      "text/plain": [
       "'Rating'"
      ]
     },
     "execution_count": 12,
     "metadata": {},
     "output_type": "execute_result"
    }
   ],
   "source": [
    "# Searcing inside soup object all tags with class \"Rating\" and storing them inside an empty list\n",
    "ratings = soup.find_all(attrs={\"class\": \"Rating\"})\n",
    "ratings_list_text = []\n",
    "\n",
    "for tags in ratings:\n",
    "    ratings_list_text.append(tags.get_text())\n",
    "    \n",
    "#removing Ratings header that is list object index 0\n",
    "ratings_list_text.pop(0)\n",
    "\n",
    "\n",
    "#output hidden to save space"
   ]
  },
  {
   "cell_type": "markdown",
   "metadata": {},
   "source": [
    "6. Create an empty list called `ratings` to store all the ratings in."
   ]
  },
  {
   "cell_type": "code",
   "execution_count": 13,
   "metadata": {},
   "outputs": [],
   "source": [
    "ratings_list = []"
   ]
  },
  {
   "cell_type": "markdown",
   "metadata": {},
   "source": [
    "7. Loop through the ratings tags and get the text contained in each one. Add it to the ratings list.\n",
    "\n",
    "   As you do this, convert the rating to a float, so that the ratings list will be numerical. This should help with calculations later."
   ]
  },
  {
   "cell_type": "code",
   "execution_count": 14,
   "metadata": {
    "tags": []
   },
   "outputs": [
    {
     "data": {
      "text/plain": [
       "'\\nfor ratings in ratings_list:\\n    print(ratings, type(ratings))\\n'"
      ]
     },
     "execution_count": 14,
     "metadata": {},
     "output_type": "execute_result"
    }
   ],
   "source": [
    "# converting str values to float for furhter calculations\n",
    "for ratings in ratings_list_text:\n",
    "    ratings_list.append(float(ratings))\n",
    "    \n",
    "# Printing values to check  convertion     \n",
    "\"\"\"\n",
    "for ratings in ratings_list:\n",
    "    print(ratings, type(ratings))\n",
    "\"\"\""
   ]
  },
  {
   "cell_type": "markdown",
   "metadata": {},
   "source": [
    "8. Using Matplotlib, create a histogram of the ratings values:\n",
    "\n",
    "```py\n",
    "plt.hist(ratings)\n",
    "```\n",
    "\n",
    "   Remember to show the plot using `plt.show()`!"
   ]
  },
  {
   "cell_type": "code",
   "execution_count": 7,
   "metadata": {},
   "outputs": [
    {
     "data": {
      "image/png": "[encoded data removed]",
      "text/plain": [
       "<Figure size 432x288 with 1 Axes>"
      ]
     },
     "metadata": {
      "needs_background": "light"
     },
     "output_type": "display_data"
    }
   ],
   "source": [
    "# Plotting rating_list to show values distribution\n",
    "\n",
    "import matplotlib.pyplot as plt\n",
    "\n",
    "plt.hist(ratings_list)\n",
    "plt.show()"
   ]
  },
  {
   "cell_type": "markdown",
   "metadata": {},
   "source": [
    "## Which chocolatier makes the best chocolate?"
   ]
  },
  {
   "cell_type": "markdown",
   "metadata": {},
   "source": [
    "9. We want to now find the 10 most highly rated chocolatiers. One way to do this is to make a DataFrame that has the chocolate companies in one column, and the ratings in another. Then, we can do a `groupby` to find the ones with the highest average rating.\n",
    "\n",
    "   First, let's find all tags on the webpage that contain the company names."
   ]
  },
  {
   "cell_type": "code",
   "execution_count": 8,
   "metadata": {},
   "outputs": [],
   "source": [
    "# Searcing inside soup object all tags with class \"Company\" and storing them inside an empty list\n",
    "\n",
    "companies = soup.find_all(attrs={\"class\": \"Company\"})\n"
   ]
  },
  {
   "cell_type": "markdown",
   "metadata": {},
   "source": [
    "10. Just like we did with ratings, we now want to make an empty list to hold company names."
   ]
  },
  {
   "cell_type": "code",
   "execution_count": 9,
   "metadata": {},
   "outputs": [],
   "source": [
    "companies_list = []\n"
   ]
  },
  {
   "cell_type": "markdown",
   "metadata": {},
   "source": [
    "11. Loop through the tags containing the company names, and add the text from each tag to the list you just created."
   ]
  },
  {
   "cell_type": "code",
   "execution_count": 10,
   "metadata": {},
   "outputs": [
    {
     "name": "stdout",
     "output_type": "stream",
     "text": [
      "1795 1795\n"
     ]
    }
   ],
   "source": [
    "# Loop through soup object to append every element to companies_list\n",
    "for items in companies:\n",
    "    companies_list.append(items.get_text())\n",
    "companies_list.pop(0)\n",
    "print(len(companies_list), len(ratings_list))"
   ]
  },
  {
   "cell_type": "markdown",
   "metadata": {},
   "source": [
    "12. Create a DataFrame with a column \"Company\" corresponding to your companies list, and a column \"Ratings\" corresponding to your ratings list."
   ]
  },
  {
   "cell_type": "code",
   "execution_count": 11,
   "metadata": {},
   "outputs": [
    {
     "name": "stdout",
     "output_type": "stream",
     "text": [
      "     Companies  Ratings\n",
      "0     A. Morin     3.75\n",
      "1     A. Morin     2.75\n",
      "2     A. Morin     3.00\n",
      "3     A. Morin     3.50\n",
      "4     A. Morin     3.50\n",
      "...        ...      ...\n",
      "1790    Zotter     3.75\n",
      "1791    Zotter     3.00\n",
      "1792    Zotter     3.50\n",
      "1793    Zotter     3.25\n",
      "1794    Zotter     3.00\n",
      "\n",
      "[1795 rows x 2 columns]\n"
     ]
    }
   ],
   "source": [
    "# importing pandas module and created a dict which stored Companies names and their ratings\n",
    "import pandas as pd \n",
    "d = {\"Companies\": companies_list, \"Ratings\": ratings_list}\n",
    "# using pandas to generate a DataFrame from previous dict\n",
    "df = pd.DataFrame.from_dict(d)\n",
    "print(df)"
   ]
  },
  {
   "cell_type": "markdown",
   "metadata": {},
   "source": [
    "13. Use `.grouby` to group your DataFrame by Company and take the average of the grouped ratings.\n",
    "\n",
    "    Then, use the `.nlargest` command to get the 10 highest rated chocolate companies. Print them out.\n",
    "    \n",
    "    Look at the hint if you get stuck on this step!"
   ]
  },
  {
   "cell_type": "code",
   "execution_count": 12,
   "metadata": {},
   "outputs": [
    {
     "name": "stdout",
     "output_type": "stream",
     "text": [
      "Companies\n",
      "A. Morin                  3.380435\n",
      "AMMA                      3.500000\n",
      "Acalli                    3.750000\n",
      "Adi                       3.250000\n",
      "Aequare (Gianduja)        2.875000\n",
      "                            ...   \n",
      "hello cocoa               3.125000\n",
      "hexx                      3.050000\n",
      "iQ Chocolate              2.875000\n",
      "organicfair               2.850000\n",
      "twenty-four blackbirds    3.041667\n",
      "Name: Ratings, Length: 416, dtype: float64 \n",
      "\n",
      "TOP 10 By Rating \n",
      " Companies\n",
      "Tobago Estate (Pralus)                  4.000000\n",
      "Heirloom Cacao Preservation (Zokoko)    3.875000\n",
      "Ocelot                                  3.875000\n",
      "Amedei                                  3.846154\n",
      "Matale                                  3.812500\n",
      "Patric                                  3.791667\n",
      "Idilio (Felchlin)                       3.775000\n",
      "Acalli                                  3.750000\n",
      "Chocola'te                              3.750000\n",
      "Christopher Morel (Felchlin)            3.750000\n",
      "Name: Ratings, dtype: float64\n"
     ]
    }
   ],
   "source": [
    "mean_ratings = df.groupby('Companies').Ratings.mean()\n",
    "print(mean_ratings, \"\\n\")\n",
    "best_ten = mean_ratings.nlargest(10)\n",
    "print(\"TOP 10 By Rating \\n\",best_ten)"
   ]
  },
  {
   "cell_type": "markdown",
   "metadata": {},
   "source": [
    "## Is more cacao better?"
   ]
  },
  {
   "cell_type": "markdown",
   "metadata": {},
   "source": [
    "14. We want to see if the chocolate experts tend to rate chocolate bars with higher levels of cacoa to be better than those with lower levels of cacoa.\n",
    "\n",
    "    It looks like the cocoa percentages are in the table under the Cocoa Percent column (note we are looking at cocoa not cocao!)\n",
    "    \n",
    "    Using the same methods you used in the last couple of tasks, create a list that contains all of the cocoa percentages. Store each percent as a float, after stripping off the `%` character."
   ]
  },
  {
   "cell_type": "code",
   "execution_count": 13,
   "metadata": {},
   "outputs": [
    {
     "name": "stdout",
     "output_type": "stream",
     "text": [
      "['63%', '70%', '70%', '70%', '70%', '70%', '70%', '70%', '70%', '70%']\n",
      "[0.63, 0.7, 0.7, 0.7, 0.7, 0.7, 0.7, 0.7, 0.7, 0.7]\n"
     ]
    }
   ],
   "source": [
    "# Searcing inside soup object all tags with class \"CocoaPercent\", converting them to float and appending them to empty list\n",
    "cocoa_percentage = soup.find_all(attrs={\"class\": \"CocoaPercent\"})\n",
    "cocoa_percentage_text = []\n",
    "cocoa_percentage_float = []\n",
    "for items in cocoa_percentage:\n",
    "    cocoa_percentage_text.append(items.get_text())\n",
    "cocoa_percentage_text.pop(0)   \n",
    "print(cocoa_percentage_text[:10])\n",
    "\n",
    "for items in cocoa_percentage_text:\n",
    "    float_items = items.strip('%')\n",
    "    cocoa_percentage_float.append(float(float(float_items)/100))\n",
    "    \n",
    "print(cocoa_percentage_float[:10])"
   ]
  },
  {
   "cell_type": "markdown",
   "metadata": {},
   "source": [
    "15. Add the cocoa percentages as a column called `\"CocoaPercentage\"` in the DataFrame that has companies and ratings in it."
   ]
  },
  {
   "cell_type": "code",
   "execution_count": 24,
   "metadata": {},
   "outputs": [
    {
     "name": "stdout",
     "output_type": "stream",
     "text": [
      "DATAFRAME: \n",
      "      Companies  Ratings  CocoaPercent\n",
      "0     A. Morin     3.75          0.63\n",
      "1     A. Morin     2.75          0.70\n",
      "2     A. Morin     3.00          0.70\n",
      "3     A. Morin     3.50          0.70\n",
      "4     A. Morin     3.50          0.70\n",
      "...        ...      ...           ...\n",
      "1790    Zotter     3.75          0.70\n",
      "1791    Zotter     3.00          0.65\n",
      "1792    Zotter     3.50          0.65\n",
      "1793    Zotter     3.25          0.62\n",
      "1794    Zotter     3.00          0.65\n",
      "\n",
      "[1795 rows x 3 columns] \n",
      "\n",
      "COMPANIES COCOA_PERCENT AVERAGE: \n",
      " Companies\n",
      "A. Morin                  0.69087\n",
      "AMMA                      0.69000\n",
      "Acalli                    0.70000\n",
      "Adi                       0.75000\n",
      "Aequare (Gianduja)        0.62500\n",
      "                           ...   \n",
      "hello cocoa               0.65500\n",
      "hexx                      0.71400\n",
      "iQ Chocolate              0.72000\n",
      "organicfair               0.72400\n",
      "twenty-four blackbirds    0.73500\n",
      "Name: CocoaPercent, Length: 416, dtype: float64 \n",
      "\n",
      "TOP 10 BY COCOA_PERCENT \n",
      " Companies\n",
      "Bouga Cacao (Tulicorp)            0.88500\n",
      "Chocolate Alchemist-Philly        0.85000\n",
      "Garden Island                     0.85000\n",
      "Lindt & Sprungli                  0.85000\n",
      "Nanea                             0.85000\n",
      "Vintage Plantations (Tulicorp)    0.82500\n",
      "Claudio Corallo                   0.82125\n",
      "Durand                            0.82000\n",
      "Peppalo                           0.82000\n",
      "Marsatta                          0.81500\n",
      "Name: CocoaPercent, dtype: float64\n"
     ]
    }
   ],
   "source": [
    "#Creating dictionary who stores Companies name, Ratings and CocoaPercent\n",
    "d = {\"Companies\": companies_list, \"Ratings\": ratings_list, \"CocoaPercent\": cocoa_percentage_float}\n",
    "#Creating related dataframe\n",
    "df = pd.DataFrame.from_dict(d)\n",
    "print(\"DATAFRAME: \\n\", df, '\\n')\n",
    "# Groupby Companies and getting mean for their cocoa_percent values\n",
    "mean_ratings = df.groupby('Companies').CocoaPercent.mean()\n",
    "print(\"COMPANIES COCOA_PERCENT AVERAGE: \\n\", mean_ratings, \"\\n\")\n",
    "# Printing top 10 for Cocoa_percent value\n",
    "best_ten = mean_ratings.nlargest(10)\n",
    "print(\"TOP 10 BY COCOA_PERCENT \\n\",best_ten)"
   ]
  },
  {
   "cell_type": "markdown",
   "metadata": {},
   "source": [
    "16. Make a scatterplot of ratings (`your_df.Rating`) vs percentage of cocoa (`your_df.CocoaPercentage`).\n",
    "\n",
    "    You can do this in Matplotlib with these commands:\n",
    "    \n",
    "```py\n",
    "plt.scatter(df.CocoaPercentage, df.Rating)\n",
    "plt.show()\n",
    "```\n",
    "\n",
    "Call `plt.clf()` to clear the figure between showing your histogram and this scatterplot."
   ]
  },
  {
   "cell_type": "code",
   "execution_count": 15,
   "metadata": {},
   "outputs": [
    {
     "data": {
      "image/png": "[encoded data removed]",
      "text/plain": [
       "<Figure size 432x288 with 1 Axes>"
      ]
     },
     "metadata": {
      "needs_background": "light"
     },
     "output_type": "display_data"
    }
   ],
   "source": [
    "#Importing numpy and plotting Cocoa_Percent and Ratings to check existing correlation\n",
    "import numpy as np\n",
    "plt.scatter(df.CocoaPercent, df.Ratings)\n",
    "z = np.polyfit(df.CocoaPercent, df.Ratings, 1)\n",
    "line_function = np.poly1d(z)\n",
    "plt.plot(df.CocoaPercent, line_function(df.CocoaPercent), \"r-\")\n",
    "\n",
    "plt.show()"
   ]
  },
  {
   "cell_type": "markdown",
   "metadata": {},
   "source": [
    "17. Is there any correlation here? We can use some numpy commands to draw a line of best-fit over the scatterplot.\n",
    "\n",
    "    Copy this code and paste it after you create the scatterplot, but before you call `.show()`:\n",
    "    \n",
    "```py\n",
    "z = np.polyfit(df.CocoaPercentage, df.Rating, 1)\n",
    "line_function = np.poly1d(z)\n",
    "plt.plot(df.CocoaPercentage, line_function(df.CocoaPercentage), \"r-\")\n",
    "```"
   ]
  },
  {
   "cell_type": "code",
   "execution_count": null,
   "metadata": {},
   "outputs": [],
   "source": []
  },
  {
   "cell_type": "markdown",
   "metadata": {},
   "source": [
    "## Explore!"
   ]
  },
  {
   "cell_type": "markdown",
   "metadata": {},
   "source": [
    "18. We have explored a couple of the questions about chocolate that inspired us when we looked at this chocolate table.\n",
    "\n",
    "    What other kinds of questions can you answer here? Try to use a combination of BeautifulSoup and Pandas to explore some more.\n",
    "    \n",
    "    For inspiration: Where are the best cocoa beans grown? Which countries produce the highest-rated bars?"
   ]
  },
  {
   "cell_type": "code",
   "execution_count": 40,
   "metadata": {},
   "outputs": [
    {
     "name": "stdout",
     "output_type": "stream",
     "text": [
      "EXAMPLE DATAFRAME: \n",
      "        Country  CocoaPercent\n",
      "0     Sao Tome          0.63\n",
      "1         Togo          0.70\n",
      "2         Togo          0.70\n",
      "3         Togo          0.70\n",
      "4         Peru          0.70\n",
      "...        ...           ...\n",
      "1790      Peru          0.70\n",
      "1791     Congo          0.65\n",
      "1792     India          0.65\n",
      "1793     India          0.62\n",
      "1794    Brazil          0.65\n",
      "\n",
      "[1795 rows x 2 columns] \n",
      "\n",
      "COCOA PERCENT AVERAGE BY BEAN COUNTRY: \n",
      " Country\n",
      "                             0.720000\n",
      "Africa, Carribean, C. Am.    0.740000\n",
      "Australia                    0.690000\n",
      "Belize                       0.734490\n",
      "Bolivia                      0.717018\n",
      "                               ...   \n",
      "Venezuela, Trinidad          0.620000\n",
      "Venezuela/ Ghana             0.850000\n",
      "Vietnam                      0.735263\n",
      "West Africa                  0.728333\n",
      "                             0.712603\n",
      "Name: CocoaPercent, Length: 101, dtype: float64\n",
      "\n",
      "TOP 10 ORIGIN COUNTRY BY BEAN COCOA PERCENTAGE: \n",
      " Country\n",
      "Peru, Ecuador                   0.990000\n",
      "Guat., D.R., Peru, Mad., PNG    0.880000\n",
      "Samoa                           0.850000\n",
      "Venezuela/ Ghana                0.850000\n",
      "Sao Tome & Principe             0.793571\n",
      "Central and S. America          0.780000\n",
      "Principe                        0.770000\n",
      "Carribean                       0.762500\n",
      "El Salvador                     0.750000\n",
      "Gabon                           0.750000\n",
      "Ghana, Panama, Ecuador          0.750000\n",
      "Indonesia, Ghana                0.750000\n",
      "Peru, Belize                    0.750000\n",
      "Trinidad, Ecuador               0.750000\n",
      "Ven.,Ecu.,Peru,Nic.             0.750000\n",
      "Venezuela, Dom. Rep.            0.750000\n",
      "Venezuela, Ghana                0.750000\n",
      "Cuba                            0.745455\n",
      "Africa, Carribean, C. Am.       0.740000\n",
      "Cost Rica, Ven                  0.740000\n",
      "Name: CocoaPercent, dtype: float64\n",
      "\n",
      "TOP 10 PRODUCTION COUNTRY BY RATINGS: \n",
      " Country\n",
      "Chile          3.750000\n",
      "Amsterdam      3.500000\n",
      "Netherlands    3.500000\n",
      "Philippines    3.500000\n",
      "Iceland        3.416667\n",
      "Name: Ratings, dtype: float64\n"
     ]
    }
   ],
   "source": [
    "# Searching inside soup object for all tags with class BroadBeanOrigin and storing inside an empty list\n",
    "origins_country = soup.find_all(attrs={\"class\": \"BroadBeanOrigin\"})\n",
    "\n",
    "origins_country_list = []\n",
    "\n",
    "for countries in origins_country:\n",
    "    origins_country_list.append(countries.get_text())\n",
    "origins_country_list.pop(0)\n",
    "\n",
    "#Creating dictionary who stores origins and ratings values then generating datafram using pandas\n",
    "d = {\"Country\": origins_country_list, \"CocoaPercent\": cocoa_percentage_float}\n",
    "df = pd.DataFrame.from_dict(d)\n",
    "mean_ratings = df.groupby('Country').CocoaPercent.mean()\n",
    "\n",
    "print(\"EXAMPLE DATAFRAME: \\n\", df, \"\\n\")\n",
    "print(\"COCOA PERCENT AVERAGE BY BEAN COUNTRY: \\n\", mean_ratings)\n",
    "top_ten = mean_ratings.nlargest(20)\n",
    "print(\"\\nTOP 10 ORIGIN COUNTRY BY BEAN COCOA PERCENTAGE: \\n\", top_ten)\n",
    "\n",
    "\n",
    "production_country = soup.find_all(attrs={\"class\": \"CompanyLocation\"})\n",
    "\n",
    "production_country_list = []\n",
    "for countries in production_country:\n",
    "    production_country_list.append(countries.get_text())\n",
    "production_country_list.pop(0)\n",
    "\n",
    "\n",
    "d = {\"Country\": production_country_list, \"Ratings\": ratings_list}\n",
    "df = pd.DataFrame.from_dict(d)\n",
    "mean_ratings = df.groupby('Country').Ratings.mean()\n",
    "\n",
    "\n",
    "top_ten = mean_ratings.nlargest(5)\n",
    "print(\"\\nTOP 10 PRODUCTION COUNTRY BY AVERAGE RATINGS: \\n\", top_ten)"
   ]
  },
  {
   "cell_type": "code",
   "execution_count": null,
   "metadata": {},
   "outputs": [],
   "source": []
  }
 ],
 "metadata": {
  "kernelspec": {
   "display_name": "Python 3 (ipykernel)",
   "language": "python",
   "name": "python3"
  },
  "language_info": {
   "codemirror_mode": {
    "name": "ipython",
    "version": 3
   },
   "file_extension": ".py",
   "mimetype": "text/x-python",
   "name": "python",
   "nbconvert_exporter": "python",
   "pygments_lexer": "ipython3",
   "version": "3.9.7"
  }
 },
 "nbformat": 4,
 "nbformat_minor": 4
}
