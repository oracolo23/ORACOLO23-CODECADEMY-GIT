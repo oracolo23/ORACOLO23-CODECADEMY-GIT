{
 "cells": [
  {
   "cell_type": "markdown",
   "metadata": {},
   "source": [
    "# U.S. Medical Insurance Costs"
   ]
  },
  {
   "cell_type": "markdown",
   "metadata": {},
   "source": [
    "## Building Database Containing All Customers Data Stored In A Separate Dictionary For Every Row In \"insurance.csv\"\n"
   ]
  },
  {
   "cell_type": "code",
   "execution_count": 78,
   "metadata": {
    "collapsed": true
   },
   "outputs": [
    {
     "name": "stdout",
     "output_type": "stream",
     "text": [
      "{'age': '19', 'sex': 'female', 'bmi': '27.9', 'children': '0', 'smoker': 'yes', 'region': 'southwest', 'charges': '16884.924'} \n",
      "\n",
      "{'age': '18', 'sex': 'male', 'bmi': '33.77', 'children': '1', 'smoker': 'no', 'region': 'southeast', 'charges': '1725.5523'} \n",
      "\n",
      "{'age': '28', 'sex': 'male', 'bmi': '33', 'children': '3', 'smoker': 'no', 'region': 'southeast', 'charges': '4449.462'} \n",
      "\n",
      "{'age': '33', 'sex': 'male', 'bmi': '22.705', 'children': '0', 'smoker': 'no', 'region': 'northwest', 'charges': '21984.47061'} \n",
      "\n",
      "{'age': '32', 'sex': 'male', 'bmi': '28.88', 'children': '0', 'smoker': 'no', 'region': 'northwest', 'charges': '3866.8552'} \n",
      "\n",
      "{'age': '31', 'sex': 'female', 'bmi': '25.74', 'children': '0', 'smoker': 'no', 'region': 'southeast', 'charges': '3756.6216'} \n",
      "\n",
      "{'age': '46', 'sex': 'female', 'bmi': '33.44', 'children': '1', 'smoker': 'no', 'region': 'southeast', 'charges': '8240.5896'} \n",
      "\n",
      "{'age': '37', 'sex': 'female', 'bmi': '27.74', 'children': '3', 'smoker': 'no', 'region': 'northwest', 'charges': '7281.5056'} \n",
      "\n",
      "{'age': '37', 'sex': 'male', 'bmi': '29.83', 'children': '2', 'smoker': 'no', 'region': 'northeast', 'charges': '6406.4107'} \n",
      "\n",
      "{'age': '60', 'sex': 'female', 'bmi': '25.84', 'children': '0', 'smoker': 'no', 'region': 'northwest', 'charges': '28923.13692'} \n",
      "\n",
      "{'age': '25', 'sex': 'male', 'bmi': '26.22', 'children': '0', 'smoker': 'no', 'region': 'northeast', 'charges': '2721.3208'} \n",
      "\n"
     ]
    }
   ],
   "source": [
    "import csv\n",
    "customers_data = []\n",
    "with open(\"insurance.csv\") as insurance_csv:\n",
    "    csv_reader = csv.DictReader(insurance_csv)\n",
    "    for row in csv_reader:\n",
    "        customers_data.append(row)\n",
    "        \n",
    "#Defining empy lists that will be filled with categorized data \n",
    "\n",
    "customers_age = []\n",
    "customers_sex = []\n",
    "customers_bmi = []\n",
    "customers_children = []\n",
    "customers_smoker = []\n",
    "customers_region = []\n",
    "customers_charge = []\n",
    "\n",
    "for record in customers_data:\n",
    "    customers_age.append((record[\"age\"]))\n",
    "    customers_sex.append((record[\"sex\"]))\n",
    "    customers_bmi.append((record[\"bmi\"]))\n",
    "    customers_children.append((record[\"children\"]))\n",
    "    customers_smoker.append((record[\"smoker\"]))\n",
    "    customers_region.append((record[\"region\"]))\n",
    "    customers_charge.append((record[\"charges\"]))\n",
    "    \n",
    "## printing out first 10 database rows \n",
    "for record in customers_data[:11]:\n",
    "    print(record, \"\\n\")\n",
    "    "
   ]
  },
  {
   "cell_type": "markdown",
   "metadata": {},
   "source": [
    "### Indexing database to assign index to every patient"
   ]
  },
  {
   "cell_type": "code",
   "execution_count": 52,
   "metadata": {},
   "outputs": [
    {
     "name": "stdout",
     "output_type": "stream",
     "text": [
      "{'age': '19', 'sex': 'female', 'bmi': '27.9', 'children': '0', 'smoker': 'yes', 'region': 'southwest', 'charges': '16884.924'}\n",
      "{'age': '25', 'sex': 'male', 'bmi': '26.22', 'children': '0', 'smoker': 'no', 'region': 'northeast', 'charges': '2721.3208'}\n",
      "{'age': '41', 'sex': 'female', 'bmi': '31.6', 'children': '0', 'smoker': 'no', 'region': 'southwest', 'charges': '6186.127'}\n",
      "{'age': '30', 'sex': 'male', 'bmi': '22.99', 'children': '2', 'smoker': 'yes', 'region': 'northwest', 'charges': '17361.7661'}\n"
     ]
    }
   ],
   "source": [
    "index = 0\n",
    "customer_data_indexed = {}\n",
    "for record in customers_data:\n",
    "    customer_data_indexed[index] = record\n",
    "    index+=1\n",
    "\n",
    "print(customer_data_indexed[0])\n",
    "print(customer_data_indexed[10])\n",
    "print(customer_data_indexed[100])\n",
    "print(customer_data_indexed[1000])"
   ]
  },
  {
   "cell_type": "markdown",
   "metadata": {},
   "source": [
    "### Defining Customer class to instantiate all records into customer objects \"customer0\", \"customer1\"..."
   ]
  },
  {
   "cell_type": "code",
   "execution_count": 53,
   "metadata": {},
   "outputs": [
    {
     "name": "stdout",
     "output_type": "stream",
     "text": [
      "18\n",
      "male\n",
      "34\n",
      "male\n",
      "northeast\n",
      "northwest\n"
     ]
    }
   ],
   "source": [
    "# The __init__ constructor will accept a list of data from customer_data_indexed with .items() method, we define it as \"input\"\n",
    "# Every Customer() object will be an instanciated with \"customer\"+[index] format  \n",
    "\n",
    "class Customer:\n",
    "    def __init__(self, data):\n",
    "        self.age = data[\"age\"]\n",
    "        self.sex = data[\"sex\"]\n",
    "        self.bmi = data[\"bmi\"]\n",
    "        self.children = data[\"children\"]\n",
    "        self.smoker = data[\"smoker\"]\n",
    "        self.region = data[\"region\"]\n",
    "        self.charges = data[\"charges\"]    \n",
    "        \n",
    "input = customer_data_indexed.items()\n",
    "\n",
    "# Items from \"input\" list looks like {0 : {sex, age, bmi,..}} , Dictionary generated using Dict comprehension \n",
    "\n",
    "customers_dict = {\"customer\" + str(record[0]) : Customer(record[1]) for record in input}\n",
    "\n",
    "# Printing out instance variables to verify correct assignment\n",
    "\n",
    "print(customers_dict[\"customer1\"].age)\n",
    "print(customers_dict[\"customer1\"].sex)\n",
    "print(customers_dict[\"customer23\"].age)\n",
    "print(customers_dict[\"customer123\"].sex)\n",
    "print(customers_dict[\"customer123\"].region)\n",
    "print(customers_dict[\"customer234\"].region)"
   ]
  },
  {
   "cell_type": "markdown",
   "metadata": {},
   "source": [
    "### Calculating Average AGE, BMI, CHILDREN, CHARGE for Customer Database\n"
   ]
  },
  {
   "cell_type": "markdown",
   "metadata": {},
   "source": [
    "Now we have cleaned and categorized our data enough to start some basic analysis.\n",
    "\n",
    "We are going to calculate some average values for all our customers data"
   ]
  },
  {
   "cell_type": "code",
   "execution_count": 54,
   "metadata": {},
   "outputs": [],
   "source": [
    "#Defining function that calculate the average values for items in a given list\n",
    "\n",
    "def calculate_avg(list_of_items):\n",
    "    total = 0\n",
    "    for items in list_of_items:\n",
    "        total+= float(items)\n",
    "    return total/len(list_of_items)\n",
    "\n",
    "#calling the function with previously defined lists \n",
    "\n",
    "customers_age_avg = round(calculate_avg(customers_age), 2)\n",
    "customers_bmi_avg = round(calculate_avg(customers_bmi), 2)\n",
    "customers_children_avg = round(calculate_avg(customers_children), 2)\n",
    "customers_charge_avg = round(calculate_avg(customers_charge), 2)"
   ]
  },
  {
   "cell_type": "markdown",
   "metadata": {},
   "source": [
    "### Printing Rounded Customers Averages for AGE, BMI, CHILDREN, CHARGE"
   ]
  },
  {
   "cell_type": "code",
   "execution_count": 55,
   "metadata": {},
   "outputs": [
    {
     "name": "stdout",
     "output_type": "stream",
     "text": [
      "Customers average age is: 39.21\n",
      "Customers average bmi is: 30.66\n",
      "Customers average children is: 1.09\n",
      "Customers average charge is: 13270.42\n"
     ]
    }
   ],
   "source": [
    "print(\"Customers average age is: \" + str(customers_age_avg))\n",
    "print(\"Customers average bmi is: \" + str(customers_bmi_avg))\n",
    "print(\"Customers average children is: \" + str(customers_children_avg))\n",
    "print(\"Customers average charge is: \" + str(customers_charge_avg))\n"
   ]
  },
  {
   "cell_type": "markdown",
   "metadata": {},
   "source": [
    "### Splitting customer in : \"SEX\" = *Male/Female*, \"CHILDREN\" =*Yes/No* and \"SMOKER\" = *Yes/No*"
   ]
  },
  {
   "cell_type": "code",
   "execution_count": 56,
   "metadata": {},
   "outputs": [],
   "source": [
    "sex_male = []\n",
    "sex_female = []\n",
    "yes_smokers = []\n",
    "no_smokers = []\n",
    "yes_children = []\n",
    "no_children = []\n",
    "\n",
    "for record in customers_data:\n",
    "    if record[\"sex\"] == \"male\":\n",
    "        sex_male.append(record)\n",
    "    else:\n",
    "        sex_female.append(record)\n",
    "\n",
    "for  record in customers_data:\n",
    "    if record[\"smoker\"] == \"yes\":\n",
    "        yes_smokers.append(record)\n",
    "    else:\n",
    "        no_smokers.append(record)\n",
    "\n",
    "\n",
    "for  record in customers_data:\n",
    "    if int(record[\"children\"]) > 0:\n",
    "        yes_children.append(record)\n",
    "    else:\n",
    "        no_children.append(record)\n",
    "\n",
    "#print(sex_male[0:3])\n",
    "#print(\"\\n\")\n",
    "#print(sex_female[0:3])\n",
    "#print(\"\\n\")\n",
    "#print(yes_smokers[0:3])\n",
    "#print(\"\\n\")\n",
    "#print(no_smokers[0:3])\n",
    "#print(\"\\n\")\n",
    "#print(yes_children[0:3])\n",
    "#print(\"\\n\")\n",
    "#print(no_children[0:3])\n",
    "       \n",
    "        "
   ]
  },
  {
   "cell_type": "markdown",
   "metadata": {},
   "source": [
    "### Calculating AGE & BMI Averages with New Splitted Data"
   ]
  },
  {
   "cell_type": "code",
   "execution_count": 80,
   "metadata": {},
   "outputs": [
    {
     "name": "stdout",
     "output_type": "stream",
     "text": [
      "Males average AGE is: 38.917159763313606\n",
      "Females average AGE is: 39.503021148036254\n",
      "Smokers average AGE is: 38.51459854014598\n",
      "Non Smokers average BMI is: 30.550296167247392\n",
      "With children average BMI is: 30.748370418848165\n",
      "No child average BMI is: 30.550296167247392\n"
     ]
    }
   ],
   "source": [
    "# Defining new empty lists that will contatin new splitted data\n",
    "# Customers ages for Sex, Smoker Status and Childrens\n",
    "sex_male_ages = []\n",
    "sex_female_ages = []\n",
    "yes_smokers_ages = []\n",
    "no_smokers_ages = []\n",
    "yes_child_ages = []\n",
    "no_child_ages = []\n",
    "# Customers bmi for Sex, Smoker Status and Childrens\n",
    "sex_male_bmi = []\n",
    "sex_female_bmi = []\n",
    "yes_smokers_bmi = []\n",
    "no_smokers_bmi = []\n",
    "yes_child_bmi = []\n",
    "no_child_bmi = []\n",
    "\n",
    "#  Iterating through previously splitted list to get \"AGES\" values and append them to correct list,\n",
    "#  The lists will be then stored in a dictionary to map values\n",
    "\n",
    "for record in sex_male:\n",
    "    sex_male_ages.append(record[\"age\"])\n",
    "for record in sex_female:\n",
    "    sex_female_ages.append(record[\"age\"])\n",
    "for record in yes_smokers:\n",
    "    yes_smokers_ages.append(record[\"age\"])\n",
    "for record in no_smokers:\n",
    "    no_smokers_ages.append(record[\"age\"])\n",
    "for record in yes_children:\n",
    "    yes_child_ages.append(record[\"age\"])\n",
    "for record in no_children:\n",
    "    no_child_ages.append(record[\"age\"])\n",
    "\n",
    "# Using aliases to abbreviate keywords lenght, SexMaleAges = SM_Ages  YesSmokerAges = YS_Ages etc.,\n",
    "# Defining dictionaries that will store lists of splitted data and their averages respectively\n",
    "ages_splitted_dict = {\"SM_Ages\":sex_male_ages, \"SF_Ages\":sex_female_ages, \"YS_Ages\": yes_smokers_ages, \"NS_Ages\": no_smokers_ages,\"YC_Ages\": yes_child_ages, \"NC_Ages\": no_child_ages}\n",
    "ages_avg_dict = {\"SM_Avg\": 0, \"SF_Avg\" : 0, \"YS_Avg\" : 0, \"NS_Avg\" : 0, \"YS_Avg\" : 0, \"NC_Avg\" : 0}\n",
    "\n",
    "def calculate_all_age_avg(ages_dict):\n",
    "    ages_avg_dict[\"SM_Avg\"] = calculate_avg(ages_dict[\"SM_Ages\"])\n",
    "    ages_avg_dict[\"SF_Avg\"] = calculate_avg(ages_dict[\"SF_Ages\"])\n",
    "    ages_avg_dict[\"YS_Avg\"] = calculate_avg(ages_dict[\"YS_Ages\"])\n",
    "    ages_avg_dict[\"NS_Avg\"] = calculate_avg(ages_dict[\"NC_Ages\"])\n",
    "    ages_avg_dict[\"YC_Avg\"] = calculate_avg(ages_dict[\"YC_Ages\"])\n",
    "    ages_avg_dict[\"NC_Avg\"] = calculate_avg(ages_dict[\"NC_Ages\"])\n",
    "    \n",
    "# Repeating same steps for bmis, basically copy/pasted the code above modifying lists and dicts name.\n",
    "\n",
    "for record in sex_male:\n",
    "    sex_male_bmi.append(record[\"bmi\"])\n",
    "for record in sex_female:\n",
    "    sex_female_bmi.append(record[\"bmi\"])\n",
    "for record in yes_smokers:\n",
    "    yes_smokers_bmi.append(record[\"bmi\"])\n",
    "for record in no_smokers:\n",
    "    no_smokers_bmi.append(record[\"bmi\"])\n",
    "for record in yes_children:\n",
    "    yes_child_bmi.append(record[\"bmi\"])\n",
    "for record in no_children:\n",
    "    no_child_bmi.append(record[\"bmi\"])\n",
    "    \n",
    "bmi_splitted_dict = {\"SM_Bmis\":sex_male_bmi, \"SF_Bmis\":sex_female_bmi, \"YS_Bmis\": yes_smokers_bmi, \"NS_Bmis\": no_smokers_bmi,\"YC_Bmis\": yes_child_bmi, \"NC_Bmis\": no_child_bmi}\n",
    "bmi_avg_dict = {\"SM_Avg\": 0, \"SF_Avg\" : 0, \"YS_Avg\" : 0, \"NS_Avg\" : 0, \"YS_Avg\" : 0, \"NC_Avg\" : 0}\n",
    "\n",
    "def calculate_all_bmi_avg(bmi_dict):\n",
    "    bmi_avg_dict[\"SM_Avg\"] = calculate_avg(bmi_dict[\"SM_Bmis\"])\n",
    "    bmi_avg_dict[\"SF_Avg\"] = calculate_avg(bmi_dict[\"SF_Bmis\"])\n",
    "    bmi_avg_dict[\"YS_Avg\"] = calculate_avg(bmi_dict[\"YS_Bmis\"])\n",
    "    bmi_avg_dict[\"NS_Avg\"] = calculate_avg(bmi_dict[\"NC_Bmis\"])\n",
    "    bmi_avg_dict[\"YC_Avg\"] = calculate_avg(bmi_dict[\"YC_Bmis\"])\n",
    "    bmi_avg_dict[\"NC_Avg\"] = calculate_avg(bmi_dict[\"NC_Bmis\"])\n",
    "\n",
    "# Calling both function to creare dicts and print some values to verify\n",
    "calculate_all_age_avg(ages_splitted_dict)\n",
    "calculate_all_bmi_avg(bmi_splitted_dict)\n",
    "\n",
    "print(\"Males average AGE is: \" + str(ages_avg_dict[\"SM_Avg\"]))\n",
    "print(\"Females average AGE is: \" + str(ages_avg_dict[\"SF_Avg\"]))\n",
    "print(\"Smokers average AGE is: \" + str(ages_avg_dict[\"YS_Avg\"]))\n",
    "print(\"Non Smokers average BMI is: \" + str(bmi_avg_dict[\"NS_Avg\"]))\n",
    "print(\"With children average BMI is: \" + str(bmi_avg_dict[\"YC_Avg\"]))\n",
    "print(\"No child average BMI is: \" + str(bmi_avg_dict[\"NC_Avg\"]))\n",
    "\n",
    "\n",
    "\n",
    "\n"
   ]
  },
  {
   "cell_type": "markdown",
   "metadata": {},
   "source": [
    "#### Splitting data again for 2 different parameters  \"SEX\" and  \"SMOKER STATUS\"\n"
   ]
  },
  {
   "cell_type": "code",
   "execution_count": 58,
   "metadata": {},
   "outputs": [
    {
     "name": "stdout",
     "output_type": "stream",
     "text": [
      "Males average AGE is: 38.917159763313606\n",
      "Females average AGE is: 39.503021148036254\n",
      "Smokers average AGE is: 38.51459854014598\n",
      "Non Smokers average BMI is: 30.550296167247392\n",
      "With children average BMI is: 30.748370418848165\n",
      "No child average BMI is: 30.550296167247392\n"
     ]
    }
   ],
   "source": [
    "calculate_all_age_avg(ages_splitted_dict)\n",
    "calculate_all_bmi_avg(bmi_splitted_dict)\n",
    "\n",
    "print(\"Males average AGE is: \" + str(ages_avg_dict[\"SM_Avg\"]))\n",
    "print(\"Females average AGE is: \" + str(ages_avg_dict[\"SF_Avg\"]))\n",
    "print(\"Smokers average AGE is: \" + str(ages_avg_dict[\"YS_Avg\"]))\n",
    "print(\"Non Smokers average BMI is: \" + str(bmi_avg_dict[\"NS_Avg\"]))\n",
    "print(\"With children average BMI is: \" + str(bmi_avg_dict[\"YC_Avg\"]))\n",
    "print(\"No child average BMI is: \" + str(bmi_avg_dict[\"NC_Avg\"]))"
   ]
  },
  {
   "cell_type": "code",
   "execution_count": 77,
   "metadata": {},
   "outputs": [
    {
     "name": "stdout",
     "output_type": "stream",
     "text": [
      "[{'age': '27', 'sex': 'male', 'bmi': '42.13', 'children': '0', 'smoker': 'yes', 'region': 'southeast', 'charges': '39611.7577'}, {'age': '30', 'sex': 'male', 'bmi': '35.3', 'children': '0', 'smoker': 'yes', 'region': 'southwest', 'charges': '36837.467'}, {'age': '31', 'sex': 'male', 'bmi': '36.3', 'children': '2', 'smoker': 'yes', 'region': 'southwest', 'charges': '38711'}] \n",
      "\n",
      "[{'age': '18', 'sex': 'male', 'bmi': '33.77', 'children': '1', 'smoker': 'no', 'region': 'southeast', 'charges': '1725.5523'}, {'age': '28', 'sex': 'male', 'bmi': '33', 'children': '3', 'smoker': 'no', 'region': 'southeast', 'charges': '4449.462'}, {'age': '33', 'sex': 'male', 'bmi': '22.705', 'children': '0', 'smoker': 'no', 'region': 'northwest', 'charges': '21984.47061'}] \n",
      "\n",
      "[{'age': '19', 'sex': 'female', 'bmi': '27.9', 'children': '0', 'smoker': 'yes', 'region': 'southwest', 'charges': '16884.924'}, {'age': '62', 'sex': 'female', 'bmi': '26.29', 'children': '0', 'smoker': 'yes', 'region': 'southeast', 'charges': '27808.7251'}, {'age': '34', 'sex': 'female', 'bmi': '31.92', 'children': '1', 'smoker': 'yes', 'region': 'northeast', 'charges': '37701.8768'}] \n",
      "\n",
      "[{'age': '31', 'sex': 'female', 'bmi': '25.74', 'children': '0', 'smoker': 'no', 'region': 'southeast', 'charges': '3756.6216'}, {'age': '46', 'sex': 'female', 'bmi': '33.44', 'children': '1', 'smoker': 'no', 'region': 'southeast', 'charges': '8240.5896'}, {'age': '37', 'sex': 'female', 'bmi': '27.74', 'children': '3', 'smoker': 'no', 'region': 'northwest', 'charges': '7281.5056'}] \n",
      "\n"
     ]
    }
   ],
   "source": [
    "# Splitting data in Males/Females + Smoker/NonSmoker in order get 4 different categories\n",
    "#\"ms\" = Male Smoker, \"fns\" = Female Non Smoker \n",
    "\n",
    "ms  = []\n",
    "mns = []\n",
    "fs  = []\n",
    "fns = []\n",
    "\n",
    "for record in customers_data:\n",
    "    if record[\"sex\"] == \"male\":\n",
    "        if record[\"smoker\"] == \"yes\":\n",
    "            ms.append(record)\n",
    "        else:\n",
    "            mns.append(record)                \n",
    "    else:\n",
    "        if record[\"smoker\"] == \"yes\":\n",
    "            fs.append(record)\n",
    "        else:\n",
    "            fns.append(record)\n",
    "            \n",
    "# printing out to verifying correct distribution, first list should contain only males+smokers, second males+non-smoker etc.\n",
    "\n",
    "print(ms[:3], \"\\n\")\n",
    "print(mns[:3], \"\\n\")\n",
    "print(fs[:3], \"\\n\")\n",
    "print(fns[:3], \"\\n\")\n"
   ]
  },
  {
   "cell_type": "markdown",
   "metadata": {},
   "source": [
    "### CHARGE Analysis for SEX/SMOKERS Factors"
   ]
  },
  {
   "cell_type": "code",
   "execution_count": 81,
   "metadata": {},
   "outputs": [
    {
     "name": "stdout",
     "output_type": "stream",
     "text": [
      "There are 159 male smokers in our database\n",
      "Their avg charge is:33042.01$\n",
      "Their total cumulated charge is : 5253679$ \n",
      "\n",
      "There are 517 male non smokers in our database\n",
      "Their avg charge is:8087.18$\n",
      "Their total cumulated charge is : 4181071$ \n",
      "\n",
      "The avg insurance cost just for being smoker if your are male is: 24954.83$\n",
      "It is 308.57% higher than for non-smokers\n",
      "The difference for total charges is 1072608$, so  male smoker's paying about 25.65% more in total cost terms \n",
      "\n",
      "There are 115 female smokers in our database\n",
      "Their avg charge is:30678.98$\n",
      "Their total cumulated charge is : 3528083$ \n",
      "\n",
      "There are 547 female non smokers in our database\n",
      "Their avg charge is:8762.31$\n",
      "Their total cumulated charge is : 4792982$ \n",
      "\n",
      "The avg insurance cost just for being smoker if your are female is: 21916.67$\n",
      "It is 250.12% higher than for non-smokers \n",
      "\n",
      "The difference for total charges is -1264899$, so female smoker's paying about -26.39% less in total cost terms \n",
      "\n"
     ]
    }
   ],
   "source": [
    "# Iterating through splitted lists (ms, mns, fs, fns)  to get their CHARGE value, append it to the related list \n",
    "# Then call previously defined calculate_avg() funcion that accept the list and return average value\n",
    "\n",
    "ms_total_charge_list = []\n",
    "mns_total_charge_list = []\n",
    "fs_total_charge_list = []\n",
    "fns_total_charge_list = []\n",
    "\n",
    "print(\"There are \" + str(len(ms)) + \" male smokers in our database\")\n",
    "for record in ms:\n",
    "    ms_total_charge_list.append(round(float(record[\"charges\"])))\n",
    "    ms_charge_avg = round(calculate_avg(ms_total_charge_list), 2)\n",
    "    ms_charge_sum = sum(ms_total_charge_list)\n",
    "print(\"Their avg charge is:\" + str(ms_charge_avg)+ \"$\")\n",
    "print(\"Their total cumulated charge is : \" + str(ms_charge_sum) + \"$\", \"\\n\")\n",
    "\n",
    "print(\"There are \" + str(len(mns)) + \" male non smokers in our database\")\n",
    "for record in mns:\n",
    "    mns_total_charge_list.append(round(float(record[\"charges\"])))\n",
    "    mns_charge_avg = round(calculate_avg(mns_total_charge_list), 2)\n",
    "    mns_charge_sum = sum(mns_total_charge_list)\n",
    "print(\"Their avg charge is:\" + str(mns_charge_avg)+ \"$\")\n",
    "print(\"Their total cumulated charge is : \" + str(mns_charge_sum) + \"$\", \"\\n\")\n",
    "\n",
    "print(\"The avg insurance cost just for being smoker if your are male is: \" + str(ms_charge_avg - mns_charge_avg)+ \"$\")\n",
    "print( \"It is \" + str(round(((ms_charge_avg-mns_charge_avg)/mns_charge_avg) * 100, 2)) + \"% higher than for non-smokers\")\n",
    "total_difference_percentage_m = ((ms_charge_sum-mns_charge_sum)/mns_charge_sum)*100\n",
    "print(\"The difference for total charges is \" + str(ms_charge_sum-mns_charge_sum)+\"$, so  male smoker's paying about \" + str(round(total_difference_percentage_m, 2))+ \"% more in total cost terms\", '\\n')\n",
    "print(\"There are \" + str(len(fs)) + \" female smokers in our database\")\n",
    "for record in fs:\n",
    "    fs_total_charge_list.append(round(float(record[\"charges\"])))\n",
    "    fs_charge_avg = round(calculate_avg(fs_total_charge_list), 2)\n",
    "    fs_charge_sum = sum(fs_total_charge_list)\n",
    "print(\"Their avg charge is:\" + str(fs_charge_avg)+ \"$\")\n",
    "print(\"Their total cumulated charge is : \" + str(fs_charge_sum) + \"$\", \"\\n\")\n",
    "print(\"There are \" + str(len(fns)) + \" female non smokers in our database\")\n",
    "for record in fns:\n",
    "    fns_total_charge_list.append(round(float(record[\"charges\"])))\n",
    "    fns_charge_avg = round(calculate_avg(fns_total_charge_list), 2)\n",
    "    fns_charge_sum = sum(fns_total_charge_list)\n",
    "print(\"Their avg charge is:\" + str(fns_charge_avg)+ \"$\")\n",
    "print(\"Their total cumulated charge is : \" + str(fns_charge_sum) + \"$\", \"\\n\")\n",
    "\n",
    "print(\"The avg insurance cost just for being smoker if your are female is: \" + str(fs_charge_avg - fns_charge_avg) + \"$\")\n",
    "print( \"It is \" + str(round(((fs_charge_avg-fns_charge_avg)/fns_charge_avg) * 100, 2)) + \"% higher than for non-smokers\", '\\n')\n",
    "total_difference_percentage_f = ((fs_charge_sum-fns_charge_sum)/fns_charge_sum)*100\n",
    "print(\"The difference for total charges is \" + str(fs_charge_sum-fns_charge_sum)+\"$, so female smoker's paying about \" + str(round(total_difference_percentage_f, 2))+ \"% less in total cost terms\", '\\n')"
   ]
  },
  {
   "cell_type": "markdown",
   "metadata": {},
   "source": [
    "### \"Sex\" & \"Smoking Status\" Factors Analysis Results "
   ]
  },
  {
   "cell_type": "markdown",
   "metadata": {},
   "source": [
    "As you can see from above analysis results, being smoker has significant cost incidence on the total charge:\n",
    "\n",
    "*Males* pay 4 times more if smokers, *Females* 3.5 times more if smokers.\n",
    "\n",
    "The difference seems be more significant (50% more) if you are male.\n",
    "\n",
    "Also:\n",
    "- Males who smoke are paying an higher overall total cost compared to non smokers, the same is not true for females.\n",
    "\n",
    "- Males customers who smoke have higher average charge related to females (\\~ +10%). \n",
    "\n",
    "- Females customers who don't smoke have an higher average charge related to males(\\~ -10% ).\n",
    "\n",
    "We will investiage this further, probably other factor as higher age or children are affecting this values.\n"
   ]
  },
  {
   "cell_type": "markdown",
   "metadata": {},
   "source": []
  },
  {
   "cell_type": "code",
   "execution_count": null,
   "metadata": {},
   "outputs": [],
   "source": []
  },
  {
   "cell_type": "code",
   "execution_count": null,
   "metadata": {},
   "outputs": [],
   "source": []
  }
 ],
 "metadata": {
  "kernelspec": {
   "display_name": "Python 3 (ipykernel)",
   "language": "python",
   "name": "python3"
  },
  "language_info": {
   "codemirror_mode": {
    "name": "ipython",
    "version": 3
   },
   "file_extension": ".py",
   "mimetype": "text/x-python",
   "name": "python",
   "nbconvert_exporter": "python",
   "pygments_lexer": "ipython3",
   "version": "3.9.7"
  }
 },
 "nbformat": 4,
 "nbformat_minor": 4
}
