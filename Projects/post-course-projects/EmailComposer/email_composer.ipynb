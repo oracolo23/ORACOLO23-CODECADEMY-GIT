{
 "cells": [
  {
   "cell_type": "code",
   "execution_count": 1,
   "id": "676c0a9f-803e-4b35-ab5c-d9dce8758e22",
   "metadata": {},
   "outputs": [],
   "source": [
    "import pandas as pd\n",
    "import os\n",
    "import uuid\n",
    "from email import generator\n",
    "from email.mime.multipart import MIMEMultipart\n",
    "from email.mime.text import MIMEText\n",
    "import re"
   ]
  },
  {
   "cell_type": "code",
   "execution_count": 20,
   "id": "af9d4e74-6e9b-485d-9036-b37337c53c91",
   "metadata": {},
   "outputs": [],
   "source": [
    "# where to write the output file\n",
    "directory = \"../EMAILS\""
   ]
  },
  {
   "cell_type": "code",
   "execution_count": 36,
   "id": "2f66e954-ef65-4c5e-8a1a-fd8c24b3da56",
   "metadata": {
    "tags": []
   },
   "outputs": [
    {
     "data": {
      "text/html": [
       "<div>\n",
       "<style scoped>\n",
       "    .dataframe tbody tr th:only-of-type {\n",
       "        vertical-align: middle;\n",
       "    }\n",
       "\n",
       "    .dataframe tbody tr th {\n",
       "        vertical-align: top;\n",
       "    }\n",
       "\n",
       "    .dataframe thead th {\n",
       "        text-align: right;\n",
       "    }\n",
       "</style>\n",
       "<table border=\"1\" class=\"dataframe\">\n",
       "  <thead>\n",
       "    <tr style=\"text-align: right;\">\n",
       "      <th></th>\n",
       "      <th>DataReg</th>\n",
       "      <th>Rag</th>\n",
       "      <th>AAMS</th>\n",
       "      <th>Importo</th>\n",
       "      <th>authmail</th>\n",
       "      <th>SaldoCassa</th>\n",
       "      <th>SaldoProg</th>\n",
       "      <th>SaldoDov</th>\n",
       "    </tr>\n",
       "  </thead>\n",
       "  <tbody>\n",
       "    <tr>\n",
       "      <th>0</th>\n",
       "      <td>17-May</td>\n",
       "      <td>val7</td>\n",
       "      <td>val7</td>\n",
       "      <td>3.000,00 €</td>\n",
       "      <td>dir6@mycompany</td>\n",
       "      <td>19062.0</td>\n",
       "      <td>3246.0</td>\n",
       "      <td>0.0</td>\n",
       "    </tr>\n",
       "    <tr>\n",
       "      <th>1</th>\n",
       "      <td>17-May</td>\n",
       "      <td>val5</td>\n",
       "      <td>val5</td>\n",
       "      <td>2.000,00 €</td>\n",
       "      <td>ref5@external</td>\n",
       "      <td>5640.0</td>\n",
       "      <td>-33068.0</td>\n",
       "      <td>-20164.0</td>\n",
       "    </tr>\n",
       "    <tr>\n",
       "      <th>2</th>\n",
       "      <td>17-May</td>\n",
       "      <td>val32</td>\n",
       "      <td>val32</td>\n",
       "      <td>2.000,00 €</td>\n",
       "      <td>ref6@external</td>\n",
       "      <td>7923.0</td>\n",
       "      <td>-18083.0</td>\n",
       "      <td>-12378.0</td>\n",
       "    </tr>\n",
       "    <tr>\n",
       "      <th>3</th>\n",
       "      <td>17-May</td>\n",
       "      <td>val29</td>\n",
       "      <td>val29</td>\n",
       "      <td>21.000,00 €</td>\n",
       "      <td>ref5@external</td>\n",
       "      <td>44869.0</td>\n",
       "      <td>-49852.0</td>\n",
       "      <td>-27706.0</td>\n",
       "    </tr>\n",
       "    <tr>\n",
       "      <th>4</th>\n",
       "      <td>17-May</td>\n",
       "      <td>val25</td>\n",
       "      <td>val25</td>\n",
       "      <td>3.000,00 €</td>\n",
       "      <td>ref14@external</td>\n",
       "      <td>37120.0</td>\n",
       "      <td>-28485.0</td>\n",
       "      <td>-6525.0</td>\n",
       "    </tr>\n",
       "  </tbody>\n",
       "</table>\n",
       "</div>"
      ],
      "text/plain": [
       "  DataReg    Rag   AAMS      Importo        authmail  SaldoCassa  SaldoProg  \\\n",
       "0  17-May   val7   val7   3.000,00 €  dir6@mycompany     19062.0     3246.0   \n",
       "1  17-May   val5   val5   2.000,00 €   ref5@external      5640.0   -33068.0   \n",
       "2  17-May  val32  val32   2.000,00 €   ref6@external      7923.0   -18083.0   \n",
       "3  17-May  val29  val29  21.000,00 €   ref5@external     44869.0   -49852.0   \n",
       "4  17-May  val25  val25   3.000,00 €  ref14@external     37120.0   -28485.0   \n",
       "\n",
       "   SaldoDov  \n",
       "0       0.0  \n",
       "1  -20164.0  \n",
       "2  -12378.0  \n",
       "3  -27706.0  \n",
       "4   -6525.0  "
      ]
     },
     "execution_count": 36,
     "metadata": {},
     "output_type": "execute_result"
    }
   ],
   "source": [
    "canceled = pd.read_csv(\"../canceled.csv\", delimiter =\";\").dropna()\n",
    "canceled.head()"
   ]
  },
  {
   "cell_type": "code",
   "execution_count": 29,
   "id": "f0e6556f-ad3f-45ae-8c43-03652da77a5b",
   "metadata": {
    "jupyter": {
     "source_hidden": true
    },
    "tags": []
   },
   "outputs": [],
   "source": [
    "template_dir=\"\"\"\n",
    "Buonasera,\n",
    "\n",
    "ti informiamo che in data odierna è stato cancellato un versamento di {} inserito sul conto del PV in data {}.\n",
    "Di seguito situazione aggiornata\n",
    "\n",
    "Ragione Sociale     :    {}\n",
    "Saldo Attuale       :    {}\n",
    "Saldo Dovuto        :    {}\n",
    "Saldo Cassa         :    {}\n",
    "\n",
    "\n",
    " \n",
    "Saluti\n",
    "MyCompany \n",
    " \n",
    "\"\"\"\n"
   ]
  },
  {
   "cell_type": "code",
   "execution_count": 30,
   "id": "1a7b6acc-80d7-4a65-9995-f7b3527bf87b",
   "metadata": {
    "jupyter": {
     "source_hidden": true
    },
    "tags": []
   },
   "outputs": [],
   "source": [
    "template_ref=\"\"\"\n",
    "Gentile Referente,\n",
    "\n",
    "La informiamo che in data odierna è stato cancellato un versamento di {} inserito sul conto del PV in data {}.\n",
    "Di seguito situazione aggiornata\n",
    "\n",
    "Ragione Sociale     :    {}\n",
    "Saldo Attuale       :    {}\n",
    "Saldo Dovuto        :    {}\n",
    "Saldo Cassa         :    {}\n",
    "\n",
    "\n",
    " \n",
    "Saluti\n",
    "MyCompany  \n",
    " \n",
    " \"\"\""
   ]
  },
  {
   "cell_type": "code",
   "execution_count": 34,
   "id": "e18fee90-81b0-4072-8977-a34c98cea72b",
   "metadata": {
    "tags": []
   },
   "outputs": [],
   "source": [
    "def compose_emails(data):\n",
    "    \n",
    "    # splits datasets based on authmail address, it can be set to specific email domain for internal addresses such as @RandomCompany\n",
    "    \n",
    "    directs = [canceled.loc[n] for n in range(len(canceled)) if canceled.loc[n].authmail.endswith('@mycompany')==True]\n",
    "    ref = [canceled.loc[n] for n in range(len(canceled)) if canceled.loc[n].authmail.endswith('@mycompany')==False]\n",
    "    dir_pv = pd.DataFrame(directs).reset_index(drop=True)\n",
    "    ref_pv = pd.DataFrame(ref).reset_index(drop=True)\n",
    "    \n",
    "    def create_message():\n",
    "        msg = MIMEMultipart()\n",
    "        msg[\"To\"] = address_to\n",
    "        msg[\"From\"] = address_from\n",
    "        msg[\"Subject\"] = subject\n",
    "        msg.attach(MIMEText(body, \"plain\"))\n",
    "\n",
    "        return msg\n",
    "\n",
    "    def write_eml_file_dir(msg):\n",
    "        os.chdir(directory)\n",
    "        filename = 'DIR' + str(uuid.uuid4()) + \".eml\"\n",
    "\n",
    "        with open(filename, 'w') as file:\n",
    "            emlGenerator = generator.Generator(file)\n",
    "            emlGenerator.flatten(msg)\n",
    "    def write_eml_file_ref(msg):\n",
    "        os.chdir(directory)\n",
    "        filename = 'REF' + str(uuid.uuid4()) + \".eml\"\n",
    "\n",
    "        with open(filename, 'w') as file:\n",
    "            emlGenerator = generator.Generator(file)\n",
    "            emlGenerator.flatten(msg)\n",
    "    \n",
    "    print('Payments canceled for DIR PV:  ' + str(len(dir_pv)))\n",
    "\n",
    "    print('Payments canceled for REF PV:  ' + str(len(ref_pv)))\n",
    "\n",
    "    #. Direct PVs email composition\n",
    "    n=0\n",
    "    for n in range(len(dir_pv)):\n",
    "        item = dir_pv.loc[n]\n",
    "        address_from = \"m.amanti@mycompany.com\"\n",
    "        address_to = item.authmail\n",
    "        amount = item.Importo\n",
    "        date = item.DataReg\n",
    "        pv_name = item.Rag\n",
    "        balance_current = item.SaldoProg\n",
    "        balance_due = item.SaldoDov\n",
    "        balance_cassa = item.SaldoCassa\n",
    "        subject = \"Bonifico cancellato - Mancato incasso {} - {}\".format(amount,pv_name)\n",
    "        body = template_dir.format(amount,date,pv_name,balance_current,balance_due,balance_cassa)\n",
    "        n+=1\n",
    "        \n",
    "   \n",
    "                \n",
    "        msg = create_message()\n",
    "        write_eml_file_dir(msg)\n",
    "      \n",
    "    \n",
    "    #. Ref PVs email composition\n",
    "    n=0\n",
    "    for n in range(len(ref_pv)):\n",
    "        item = ref_pv.loc[n]\n",
    "        address_from = \"generic@mycompany.com\"\n",
    "        address_to = item.authmail\n",
    "        amount = item.Importo\n",
    "        date = item.DataReg\n",
    "        pv_name = item.Rag\n",
    "        balance_current = item.SaldoProg\n",
    "        balance_due = item.SaldoDov\n",
    "        balance_cassa = item.SaldoCassa\n",
    "        subject = \"Bonifico cancellato - Mancato incasso {} - {}\".format(amount,pv_name)\n",
    "        body = template_ref.format(amount,date,pv_name,balance_current,balance_due,balance_cassa)\n",
    "        n+=1\n",
    "        \n",
    "       \n",
    "                \n",
    "        msg = create_message()\n",
    "        write_eml_file_ref(msg)"
   ]
  },
  {
   "cell_type": "code",
   "execution_count": 35,
   "id": "39e59483-bbcc-4dda-a6f8-1b1ab32934df",
   "metadata": {},
   "outputs": [
    {
     "name": "stdout",
     "output_type": "stream",
     "text": [
      "Payments canceled for DIR PV:  10\n",
      "Payments canceled for REF PV:  22\n"
     ]
    }
   ],
   "source": [
    "compose_emails(canceled)"
   ]
  },
  {
   "cell_type": "code",
   "execution_count": null,
   "id": "fae637f4-5a3b-446a-8cf6-0464a4365e10",
   "metadata": {},
   "outputs": [],
   "source": []
  },
  {
   "cell_type": "code",
   "execution_count": null,
   "id": "8ef8416d-50c1-4f54-8c67-406ac9305f3e",
   "metadata": {},
   "outputs": [],
   "source": []
  }
 ],
 "metadata": {
  "kernelspec": {
   "display_name": "Python 3 (ipykernel)",
   "language": "python",
   "name": "python3"
  },
  "language_info": {
   "codemirror_mode": {
    "name": "ipython",
    "version": 3
   },
   "file_extension": ".py",
   "mimetype": "text/x-python",
   "name": "python",
   "nbconvert_exporter": "python",
   "pygments_lexer": "ipython3",
   "version": "3.9.7"
  }
 },
 "nbformat": 4,
 "nbformat_minor": 5
}
