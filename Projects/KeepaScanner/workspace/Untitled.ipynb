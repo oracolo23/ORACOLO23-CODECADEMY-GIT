{
 "cells": [
  {
   "cell_type": "code",
   "execution_count": 2,
   "id": "d13d2de1",
   "metadata": {},
   "outputs": [],
   "source": [
    "import pandas as pd\n",
    "import feedparser\n",
    "import csv\n",
    "\n"
   ]
  },
  {
   "cell_type": "code",
   "execution_count": 3,
   "id": "371d4511",
   "metadata": {},
   "outputs": [
    {
     "name": "stdout",
     "output_type": "stream",
     "text": [
      "{'title': 'Logitech C920 HD Pro Webcam, Videochiamata Full HD 1080p/30fps, Audio Stereo \\u200eChiaro, \\u200eCorrezione Luce HD, Funziona con Skype, Zoom, FaceTime, Hangouts, \\u200e\\u200ePC/Mac/Laptop/Tablet/Chromebook - Nero', 'title_detail': {'type': 'text/plain', 'language': None, 'base': 'https://dyn.keepa.com/v2/user/rss/?feed=2u9m3j720a4r195m0rbahnc8e45nlab4', 'value': 'Logitech C920 HD Pro Webcam, Videochiamata Full HD 1080p/30fps, Audio Stereo \\u200eChiaro, \\u200eCorrezione Luce HD, Funziona con Skype, Zoom, FaceTime, Hangouts, \\u200e\\u200ePC/Mac/Laptop/Tablet/Chromebook - Nero'}, 'links': [{'rel': 'alternate', 'type': 'text/html', 'href': 'https://keepa.com/r/8B006A2Q81M'}, {'type': 'image/jpeg', 'href': 'https://images-na.ssl-images-amazon.com/images/I/41BDRjuWuvL._SL300_.jpg', 'rel': 'enclosure'}], 'link': 'https://keepa.com/r/8B006A2Q81M', 'summary': 'Good News! \"Logitech C920 HD Pro Webcam, Videochiamata Full HD 1080p/30fps, Audio Stereo \\u200eChiaro, \\u200eCorrezione Luce HD, Funziona con Skype, Zoom, FaceTime, Hangouts, \\u200e\\u200ePC/Mac/Laptop/Tablet/Chromebook - Nero\" has a new price: € 64.99', 'summary_detail': {'type': 'text/html', 'language': None, 'base': 'https://dyn.keepa.com/v2/user/rss/?feed=2u9m3j720a4r195m0rbahnc8e45nlab4', 'value': 'Good News! \"Logitech C920 HD Pro Webcam, Videochiamata Full HD 1080p/30fps, Audio Stereo \\u200eChiaro, \\u200eCorrezione Luce HD, Funziona con Skype, Zoom, FaceTime, Hangouts, \\u200e\\u200ePC/Mac/Laptop/Tablet/Chromebook - Nero\" has a new price: € 64.99'}, 'published': 'Wed, 16 Feb 2022 23:24:00 GMT', 'published_parsed': time.struct_time(tm_year=2022, tm_mon=2, tm_mday=16, tm_hour=23, tm_min=24, tm_sec=0, tm_wday=2, tm_yday=47, tm_isdst=0), 'id': 'B006A2Q81M864995853564', 'guidislink': False}\n"
     ]
    }
   ],
   "source": [
    "     #importing feeds from provided link (Keepa) \n",
    "NewsFeed = feedparser.parse(\"https://dyn.keepa.com/v2/user/rss/?feed=2u9m3j720a4r195m0rbahnc8e45nlab4\")\n",
    "        #list of new feeds\n",
    "current_entry = NewsFeed.entries\n",
    "print(current_entry[0])"
   ]
  },
  {
   "cell_type": "code",
   "execution_count": 6,
   "id": "1f79b1d7",
   "metadata": {},
   "outputs": [
    {
     "name": "stdout",
     "output_type": "stream",
     "text": [
      "https://keepa.com/r/8B006A2Q81M\n",
      "https://images-na.ssl-images-amazon.com/images/I/41BDRjuWuvL._SL300_.jpg\n"
     ]
    }
   ],
   "source": [
    "print(current_entry[0][\"links\"][0][\"href\"])\n",
    "print(current_entry[0][\"links\"][1][\"href\"])"
   ]
  },
  {
   "cell_type": "code",
   "execution_count": 20,
   "id": "5cdab5d8",
   "metadata": {},
   "outputs": [
    {
     "ename": "NameError",
     "evalue": "name 'archive' is not defined",
     "output_type": "error",
     "traceback": [
      "\u001b[0;31m---------------------------------------------------------------------------\u001b[0m",
      "\u001b[0;31mNameError\u001b[0m                                 Traceback (most recent call last)",
      "\u001b[0;32m/var/folders/p4/rwxltnfs6qvgnnqwbq64_g4m0000gn/T/ipykernel_1940/451518815.py\u001b[0m in \u001b[0;36m<module>\u001b[0;34m\u001b[0m\n\u001b[0;32m----> 1\u001b[0;31m \u001b[0mprint\u001b[0m\u001b[0;34m(\u001b[0m\u001b[0marchive\u001b[0m\u001b[0;34m)\u001b[0m\u001b[0;34m\u001b[0m\u001b[0;34m\u001b[0m\u001b[0m\n\u001b[0m",
      "\u001b[0;31mNameError\u001b[0m: name 'archive' is not defined"
     ]
    }
   ],
   "source": [
    "print(archive)"
   ]
  },
  {
   "cell_type": "code",
   "execution_count": 25,
   "id": "f7c50ee3",
   "metadata": {},
   "outputs": [],
   "source": [
    "\n",
    "    \n",
    "NewsFeed = feedparser.parse(\"https://dyn.keepa.com/v2/user/rss/?feed=2u9m3j720a4r195m0rbahnc8e45nlab4\")\n",
    "        #list of new feeds\n",
    "current_entry = NewsFeed.entries\n",
    "last_feed_date = current_entry[-1][\"published\"]\n",
    "\n",
    "\n"
   ]
  },
  {
   "cell_type": "code",
   "execution_count": 27,
   "id": "9da68ca1",
   "metadata": {},
   "outputs": [
    {
     "ename": "ParserError",
     "evalue": "Error tokenizing data. C error: Expected 5 fields in line 5, saw 10\n",
     "output_type": "error",
     "traceback": [
      "\u001b[0;31m---------------------------------------------------------------------------\u001b[0m",
      "\u001b[0;31mParserError\u001b[0m                               Traceback (most recent call last)",
      "\u001b[0;32m/var/folders/p4/rwxltnfs6qvgnnqwbq64_g4m0000gn/T/ipykernel_1940/4078713338.py\u001b[0m in \u001b[0;36m<module>\u001b[0;34m\u001b[0m\n\u001b[1;32m      7\u001b[0m         \u001b[0mfeed_lenght\u001b[0m \u001b[0;34m=\u001b[0m \u001b[0mlen\u001b[0m\u001b[0;34m(\u001b[0m\u001b[0mcurrent_entry\u001b[0m\u001b[0;34m)\u001b[0m\u001b[0;34m\u001b[0m\u001b[0;34m\u001b[0m\u001b[0m\n\u001b[1;32m      8\u001b[0m         \u001b[0;31m# length of current stored feeds read from a text CSV archive we will overwrite this at every new item\u001b[0m\u001b[0;34m\u001b[0m\u001b[0;34m\u001b[0m\u001b[0m\n\u001b[0;32m----> 9\u001b[0;31m         \u001b[0marchive\u001b[0m \u001b[0;34m=\u001b[0m \u001b[0mpd\u001b[0m\u001b[0;34m.\u001b[0m\u001b[0mread_csv\u001b[0m\u001b[0;34m(\u001b[0m\u001b[0marchive_csv\u001b[0m\u001b[0;34m,\u001b[0m \u001b[0mdelimiter\u001b[0m\u001b[0;34m=\u001b[0m\u001b[0;34m\",\"\u001b[0m\u001b[0;34m)\u001b[0m\u001b[0;34m\u001b[0m\u001b[0;34m\u001b[0m\u001b[0m\n\u001b[0m\u001b[1;32m     10\u001b[0m         \u001b[0marchive_lenght\u001b[0m \u001b[0;34m=\u001b[0m \u001b[0mlen\u001b[0m\u001b[0;34m(\u001b[0m\u001b[0marchive\u001b[0m\u001b[0;34m)\u001b[0m\u001b[0;34m\u001b[0m\u001b[0;34m\u001b[0m\u001b[0m\n\u001b[1;32m     11\u001b[0m \u001b[0;34m\u001b[0m\u001b[0m\n",
      "\u001b[0;32m~/opt/anaconda3/lib/python3.9/site-packages/pandas/util/_decorators.py\u001b[0m in \u001b[0;36mwrapper\u001b[0;34m(*args, **kwargs)\u001b[0m\n\u001b[1;32m    309\u001b[0m                     \u001b[0mstacklevel\u001b[0m\u001b[0;34m=\u001b[0m\u001b[0mstacklevel\u001b[0m\u001b[0;34m,\u001b[0m\u001b[0;34m\u001b[0m\u001b[0;34m\u001b[0m\u001b[0m\n\u001b[1;32m    310\u001b[0m                 )\n\u001b[0;32m--> 311\u001b[0;31m             \u001b[0;32mreturn\u001b[0m \u001b[0mfunc\u001b[0m\u001b[0;34m(\u001b[0m\u001b[0;34m*\u001b[0m\u001b[0margs\u001b[0m\u001b[0;34m,\u001b[0m \u001b[0;34m**\u001b[0m\u001b[0mkwargs\u001b[0m\u001b[0;34m)\u001b[0m\u001b[0;34m\u001b[0m\u001b[0;34m\u001b[0m\u001b[0m\n\u001b[0m\u001b[1;32m    312\u001b[0m \u001b[0;34m\u001b[0m\u001b[0m\n\u001b[1;32m    313\u001b[0m         \u001b[0;32mreturn\u001b[0m \u001b[0mwrapper\u001b[0m\u001b[0;34m\u001b[0m\u001b[0;34m\u001b[0m\u001b[0m\n",
      "\u001b[0;32m~/opt/anaconda3/lib/python3.9/site-packages/pandas/io/parsers/readers.py\u001b[0m in \u001b[0;36mread_csv\u001b[0;34m(filepath_or_buffer, sep, delimiter, header, names, index_col, usecols, squeeze, prefix, mangle_dupe_cols, dtype, engine, converters, true_values, false_values, skipinitialspace, skiprows, skipfooter, nrows, na_values, keep_default_na, na_filter, verbose, skip_blank_lines, parse_dates, infer_datetime_format, keep_date_col, date_parser, dayfirst, cache_dates, iterator, chunksize, compression, thousands, decimal, lineterminator, quotechar, quoting, doublequote, escapechar, comment, encoding, encoding_errors, dialect, error_bad_lines, warn_bad_lines, on_bad_lines, delim_whitespace, low_memory, memory_map, float_precision, storage_options)\u001b[0m\n\u001b[1;32m    584\u001b[0m     \u001b[0mkwds\u001b[0m\u001b[0;34m.\u001b[0m\u001b[0mupdate\u001b[0m\u001b[0;34m(\u001b[0m\u001b[0mkwds_defaults\u001b[0m\u001b[0;34m)\u001b[0m\u001b[0;34m\u001b[0m\u001b[0;34m\u001b[0m\u001b[0m\n\u001b[1;32m    585\u001b[0m \u001b[0;34m\u001b[0m\u001b[0m\n\u001b[0;32m--> 586\u001b[0;31m     \u001b[0;32mreturn\u001b[0m \u001b[0m_read\u001b[0m\u001b[0;34m(\u001b[0m\u001b[0mfilepath_or_buffer\u001b[0m\u001b[0;34m,\u001b[0m \u001b[0mkwds\u001b[0m\u001b[0;34m)\u001b[0m\u001b[0;34m\u001b[0m\u001b[0;34m\u001b[0m\u001b[0m\n\u001b[0m\u001b[1;32m    587\u001b[0m \u001b[0;34m\u001b[0m\u001b[0m\n\u001b[1;32m    588\u001b[0m \u001b[0;34m\u001b[0m\u001b[0m\n",
      "\u001b[0;32m~/opt/anaconda3/lib/python3.9/site-packages/pandas/io/parsers/readers.py\u001b[0m in \u001b[0;36m_read\u001b[0;34m(filepath_or_buffer, kwds)\u001b[0m\n\u001b[1;32m    486\u001b[0m \u001b[0;34m\u001b[0m\u001b[0m\n\u001b[1;32m    487\u001b[0m     \u001b[0;32mwith\u001b[0m \u001b[0mparser\u001b[0m\u001b[0;34m:\u001b[0m\u001b[0;34m\u001b[0m\u001b[0;34m\u001b[0m\u001b[0m\n\u001b[0;32m--> 488\u001b[0;31m         \u001b[0;32mreturn\u001b[0m \u001b[0mparser\u001b[0m\u001b[0;34m.\u001b[0m\u001b[0mread\u001b[0m\u001b[0;34m(\u001b[0m\u001b[0mnrows\u001b[0m\u001b[0;34m)\u001b[0m\u001b[0;34m\u001b[0m\u001b[0;34m\u001b[0m\u001b[0m\n\u001b[0m\u001b[1;32m    489\u001b[0m \u001b[0;34m\u001b[0m\u001b[0m\n\u001b[1;32m    490\u001b[0m \u001b[0;34m\u001b[0m\u001b[0m\n",
      "\u001b[0;32m~/opt/anaconda3/lib/python3.9/site-packages/pandas/io/parsers/readers.py\u001b[0m in \u001b[0;36mread\u001b[0;34m(self, nrows)\u001b[0m\n\u001b[1;32m   1045\u001b[0m     \u001b[0;32mdef\u001b[0m \u001b[0mread\u001b[0m\u001b[0;34m(\u001b[0m\u001b[0mself\u001b[0m\u001b[0;34m,\u001b[0m \u001b[0mnrows\u001b[0m\u001b[0;34m=\u001b[0m\u001b[0;32mNone\u001b[0m\u001b[0;34m)\u001b[0m\u001b[0;34m:\u001b[0m\u001b[0;34m\u001b[0m\u001b[0;34m\u001b[0m\u001b[0m\n\u001b[1;32m   1046\u001b[0m         \u001b[0mnrows\u001b[0m \u001b[0;34m=\u001b[0m \u001b[0mvalidate_integer\u001b[0m\u001b[0;34m(\u001b[0m\u001b[0;34m\"nrows\"\u001b[0m\u001b[0;34m,\u001b[0m \u001b[0mnrows\u001b[0m\u001b[0;34m)\u001b[0m\u001b[0;34m\u001b[0m\u001b[0;34m\u001b[0m\u001b[0m\n\u001b[0;32m-> 1047\u001b[0;31m         \u001b[0mindex\u001b[0m\u001b[0;34m,\u001b[0m \u001b[0mcolumns\u001b[0m\u001b[0;34m,\u001b[0m \u001b[0mcol_dict\u001b[0m \u001b[0;34m=\u001b[0m \u001b[0mself\u001b[0m\u001b[0;34m.\u001b[0m\u001b[0m_engine\u001b[0m\u001b[0;34m.\u001b[0m\u001b[0mread\u001b[0m\u001b[0;34m(\u001b[0m\u001b[0mnrows\u001b[0m\u001b[0;34m)\u001b[0m\u001b[0;34m\u001b[0m\u001b[0;34m\u001b[0m\u001b[0m\n\u001b[0m\u001b[1;32m   1048\u001b[0m \u001b[0;34m\u001b[0m\u001b[0m\n\u001b[1;32m   1049\u001b[0m         \u001b[0;32mif\u001b[0m \u001b[0mindex\u001b[0m \u001b[0;32mis\u001b[0m \u001b[0;32mNone\u001b[0m\u001b[0;34m:\u001b[0m\u001b[0;34m\u001b[0m\u001b[0;34m\u001b[0m\u001b[0m\n",
      "\u001b[0;32m~/opt/anaconda3/lib/python3.9/site-packages/pandas/io/parsers/c_parser_wrapper.py\u001b[0m in \u001b[0;36mread\u001b[0;34m(self, nrows)\u001b[0m\n\u001b[1;32m    221\u001b[0m         \u001b[0;32mtry\u001b[0m\u001b[0;34m:\u001b[0m\u001b[0;34m\u001b[0m\u001b[0;34m\u001b[0m\u001b[0m\n\u001b[1;32m    222\u001b[0m             \u001b[0;32mif\u001b[0m \u001b[0mself\u001b[0m\u001b[0;34m.\u001b[0m\u001b[0mlow_memory\u001b[0m\u001b[0;34m:\u001b[0m\u001b[0;34m\u001b[0m\u001b[0;34m\u001b[0m\u001b[0m\n\u001b[0;32m--> 223\u001b[0;31m                 \u001b[0mchunks\u001b[0m \u001b[0;34m=\u001b[0m \u001b[0mself\u001b[0m\u001b[0;34m.\u001b[0m\u001b[0m_reader\u001b[0m\u001b[0;34m.\u001b[0m\u001b[0mread_low_memory\u001b[0m\u001b[0;34m(\u001b[0m\u001b[0mnrows\u001b[0m\u001b[0;34m)\u001b[0m\u001b[0;34m\u001b[0m\u001b[0;34m\u001b[0m\u001b[0m\n\u001b[0m\u001b[1;32m    224\u001b[0m                 \u001b[0;31m# destructive to chunks\u001b[0m\u001b[0;34m\u001b[0m\u001b[0;34m\u001b[0m\u001b[0m\n\u001b[1;32m    225\u001b[0m                 \u001b[0mdata\u001b[0m \u001b[0;34m=\u001b[0m \u001b[0m_concatenate_chunks\u001b[0m\u001b[0;34m(\u001b[0m\u001b[0mchunks\u001b[0m\u001b[0;34m)\u001b[0m\u001b[0;34m\u001b[0m\u001b[0;34m\u001b[0m\u001b[0m\n",
      "\u001b[0;32m~/opt/anaconda3/lib/python3.9/site-packages/pandas/_libs/parsers.pyx\u001b[0m in \u001b[0;36mpandas._libs.parsers.TextReader.read_low_memory\u001b[0;34m()\u001b[0m\n",
      "\u001b[0;32m~/opt/anaconda3/lib/python3.9/site-packages/pandas/_libs/parsers.pyx\u001b[0m in \u001b[0;36mpandas._libs.parsers.TextReader._read_rows\u001b[0;34m()\u001b[0m\n",
      "\u001b[0;32m~/opt/anaconda3/lib/python3.9/site-packages/pandas/_libs/parsers.pyx\u001b[0m in \u001b[0;36mpandas._libs.parsers.TextReader._tokenize_rows\u001b[0;34m()\u001b[0m\n",
      "\u001b[0;32m~/opt/anaconda3/lib/python3.9/site-packages/pandas/_libs/parsers.pyx\u001b[0m in \u001b[0;36mpandas._libs.parsers.raise_parser_error\u001b[0;34m()\u001b[0m\n",
      "\u001b[0;31mParserError\u001b[0m: Error tokenizing data. C error: Expected 5 fields in line 5, saw 10\n"
     ]
    }
   ],
   "source": [
    "with open(\"archive.csv\", \"r\") as archive_csv:\n",
    "        #importing feeds from provided link (Keepa) \n",
    "        NewsFeed = feedparser.parse(\"https://dyn.keepa.com/v2/user/rss/?feed=2u9m3j720a4r195m0rbahnc8e45nlab4\")\n",
    "        #list of new feeds\n",
    "        current_entry = NewsFeed.entries\n",
    "        last_feed_date = current_entry[-1][\"published\"]\n",
    "        feed_lenght = len(current_entry)\n",
    "        # length of current stored feeds read from a text CSV archive we will overwrite this at every new item\n",
    "        archive = pd.read_csv(archive_csv, delimiter=\",\")\n",
    "        archive_lenght = len(archive)\n",
    "       "
   ]
  },
  {
   "cell_type": "code",
   "execution_count": 31,
   "id": "dd103c50",
   "metadata": {},
   "outputs": [
    {
     "name": "stdout",
     "output_type": "stream",
     "text": [
      "NEW ITEM DETECTED\n",
      "Dr. Martens 1461 DMC PW SM-B Unisex-Erwachsene Derby Schnürhalbschuhe Schwarz (Black) 41 EU (7 UK)\n",
      "Good News! \"Dr. Martens 1461 DMC PW SM-B Unisex-Erwachsene Derby Schnürhalbschuhe Schwarz (Black) 41 EU (7 UK)\" has a new price: € 127.20\n",
      "Mon, 14 Feb 2022 01:22:00 GMT\n",
      "\n",
      "\n",
      "NEW ITEM DETECTED\n",
      "Dr. Martens 1461 DMC PW SM-B Unisex-Erwachsene Derby Schnürhalbschuhe Schwarz (Black) 41 EU (7 UK)\n",
      "Good News! \"Dr. Martens 1461 DMC PW SM-B Unisex-Erwachsene Derby Schnürhalbschuhe Schwarz (Black) 41 EU (7 UK)\" has a new price: € 127.20\n",
      "Mon, 14 Feb 2022 01:22:00 GMT\n",
      "\n",
      "\n",
      "NEW ITEM DETECTED\n",
      "Dr. Martens 1461 DMC PW SM-B Unisex-Erwachsene Derby Schnürhalbschuhe Schwarz (Black) 41 EU (7 UK)\n",
      "Good News! \"Dr. Martens 1461 DMC PW SM-B Unisex-Erwachsene Derby Schnürhalbschuhe Schwarz (Black) 41 EU (7 UK)\" has a new price: € 127.20\n",
      "Mon, 14 Feb 2022 01:22:00 GMT\n",
      "\n",
      "\n",
      "NEW ITEM DETECTED\n",
      "Dr. Martens 1461 DMC PW SM-B Unisex-Erwachsene Derby Schnürhalbschuhe Schwarz (Black) 41 EU (7 UK)\n",
      "Good News! \"Dr. Martens 1461 DMC PW SM-B Unisex-Erwachsene Derby Schnürhalbschuhe Schwarz (Black) 41 EU (7 UK)\" has a new price: € 127.20\n",
      "Mon, 14 Feb 2022 01:22:00 GMT\n",
      "\n",
      "\n",
      "NEW ITEM DETECTED\n",
      "Dr. Martens 1461 DMC PW SM-B Unisex-Erwachsene Derby Schnürhalbschuhe Schwarz (Black) 41 EU (7 UK)\n",
      "Good News! \"Dr. Martens 1461 DMC PW SM-B Unisex-Erwachsene Derby Schnürhalbschuhe Schwarz (Black) 41 EU (7 UK)\" has a new price: € 127.20\n",
      "Mon, 14 Feb 2022 01:22:00 GMT\n",
      "\n",
      "\n",
      "NEW ITEM DETECTED\n",
      "Dr. Martens 1461 DMC PW SM-B Unisex-Erwachsene Derby Schnürhalbschuhe Schwarz (Black) 41 EU (7 UK)\n",
      "Good News! \"Dr. Martens 1461 DMC PW SM-B Unisex-Erwachsene Derby Schnürhalbschuhe Schwarz (Black) 41 EU (7 UK)\" has a new price: € 127.20\n",
      "Mon, 14 Feb 2022 01:22:00 GMT\n",
      "\n",
      "\n",
      "NEW ITEM DETECTED\n",
      "Dr. Martens 1461 DMC PW SM-B Unisex-Erwachsene Derby Schnürhalbschuhe Schwarz (Black) 41 EU (7 UK)\n",
      "Good News! \"Dr. Martens 1461 DMC PW SM-B Unisex-Erwachsene Derby Schnürhalbschuhe Schwarz (Black) 41 EU (7 UK)\" has a new price: € 127.20\n",
      "Mon, 14 Feb 2022 01:22:00 GMT\n",
      "\n",
      "\n",
      "NEW ITEM DETECTED\n",
      "Dr. Martens 1461 DMC PW SM-B Unisex-Erwachsene Derby Schnürhalbschuhe Schwarz (Black) 41 EU (7 UK)\n",
      "Good News! \"Dr. Martens 1461 DMC PW SM-B Unisex-Erwachsene Derby Schnürhalbschuhe Schwarz (Black) 41 EU (7 UK)\" has a new price: € 127.20\n",
      "Mon, 14 Feb 2022 01:22:00 GMT\n",
      "\n",
      "\n",
      "NEW ITEM DETECTED\n",
      "Dr. Martens 1461 DMC PW SM-B Unisex-Erwachsene Derby Schnürhalbschuhe Schwarz (Black) 41 EU (7 UK)\n",
      "Good News! \"Dr. Martens 1461 DMC PW SM-B Unisex-Erwachsene Derby Schnürhalbschuhe Schwarz (Black) 41 EU (7 UK)\" has a new price: € 127.20\n",
      "Mon, 14 Feb 2022 01:22:00 GMT\n",
      "\n",
      "\n",
      "NEW ITEM DETECTED\n",
      "Dr. Martens 1461 DMC PW SM-B Unisex-Erwachsene Derby Schnürhalbschuhe Schwarz (Black) 41 EU (7 UK)\n",
      "Good News! \"Dr. Martens 1461 DMC PW SM-B Unisex-Erwachsene Derby Schnürhalbschuhe Schwarz (Black) 41 EU (7 UK)\" has a new price: € 127.20\n",
      "Mon, 14 Feb 2022 01:22:00 GMT\n",
      "\n",
      "\n"
     ]
    }
   ],
   "source": [
    "archive_lenght = 0\n",
    "with open(\"archive.csv\", \"w\", newline='') as archive_csv:\n",
    "    fieldnames = [\"timestamp\", \"title\", \"price\", \"index\"]\n",
    "    writer = csv.DictWriter(archive_csv, fieldnames = fieldnames)\n",
    "    writer.writeheader()\n",
    "    starting_index = 0\n",
    "    for entry in current_entry[starting_index]:\n",
    "        new_item = {}\n",
    "        feed_title = NewsFeed.entries[starting_index][\"title\"]\n",
    "        new_feed_title = feed_title.replace(\",\", \"\")\n",
    "        feed_description = NewsFeed.entries[starting_index][\"description\"]\n",
    "        new_feed_description = feed_description.replace(\",\", \"\")\n",
    "        new_feed_published = NewsFeed.entries[starting_index][\"published\"]\n",
    "        new_item[\"index\"] = archive_lenght - 1\n",
    "        new_item[\"title\"] = new_feed_title\n",
    "                \n",
    "        try :\n",
    "            money_index = new_feed_description.index(\"€\")\n",
    "                    \n",
    "        except ValueError:\n",
    "            money_index = new_feed_description.index(\"£\") \n",
    "\n",
    "        price = new_feed_description[money_index:]\n",
    "        new_item[\"price\"] = price\n",
    "        new_item[\"timestamp\"] = new_feed_published\n",
    "                \n",
    "        print(\"NEW ITEM DETECTED\")\n",
    "        print(str(new_feed_title))\n",
    "        print(str(new_feed_description))\n",
    "        print(str(new_feed_published))\n",
    "        print(\"\\n\")\n",
    "                \n",
    "                               \n",
    "with open(\"archive.csv\", \"a\", newline='') as archive_csv:\n",
    "\n",
    "    fieldnames = [\"timestamp\", \"title\", \"price\", \"index\"]\n",
    "    writer = csv.DictWriter(archive_csv, fieldnames = fieldnames)\n",
    "    writer.writerow(new_item)\n",
    "    starting_index+=1"
   ]
  },
  {
   "cell_type": "code",
   "execution_count": null,
   "id": "f1564717",
   "metadata": {},
   "outputs": [],
   "source": []
  }
 ],
 "metadata": {
  "kernelspec": {
   "display_name": "Python 3 (ipykernel)",
   "language": "python",
   "name": "python3"
  },
  "language_info": {
   "codemirror_mode": {
    "name": "ipython",
    "version": 3
   },
   "file_extension": ".py",
   "mimetype": "text/x-python",
   "name": "python",
   "nbconvert_exporter": "python",
   "pygments_lexer": "ipython3",
   "version": "3.9.7"
  }
 },
 "nbformat": 4,
 "nbformat_minor": 5
}
