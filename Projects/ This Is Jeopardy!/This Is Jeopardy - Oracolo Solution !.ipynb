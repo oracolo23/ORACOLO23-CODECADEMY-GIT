{
 "cells": [
  {
   "cell_type": "markdown",
   "metadata": {},
   "source": [
    "# This is Jeopardy!"
   ]
  },
  {
   "cell_type": "markdown",
   "metadata": {},
   "source": [
    "#### Overview"
   ]
  },
  {
   "cell_type": "markdown",
   "metadata": {},
   "source": [
    "This project is slightly different than others you have encountered thus far. Instead of a step-by-step tutorial, this project contains a series of open-ended requirements which describe the project you'll be building. There are many possible ways to correctly fulfill all of these requirements, and you should expect to use the internet, Codecademy, and/or other resources when you encounter a problem that you cannot easily solve."
   ]
  },
  {
   "cell_type": "markdown",
   "metadata": {},
   "source": [
    "#### Project Goals"
   ]
  },
  {
   "cell_type": "markdown",
   "metadata": {},
   "source": [
    "You will work to write several functions that investigate a dataset of _Jeopardy!_ questions and answers. Filter the dataset for topics that you're interested in, compute the average difficulty of those questions, and train to become the next Jeopardy champion!"
   ]
  },
  {
   "cell_type": "markdown",
   "metadata": {},
   "source": [
    "## Prerequisites"
   ]
  },
  {
   "cell_type": "markdown",
   "metadata": {},
   "source": [
    "In order to complete this project, you should have completed the Pandas lessons in the <a href=\"https://www.codecademy.com/learn/paths/analyze-data-with-python\">Analyze Data with Python Skill Path</a>. You can also find those lessons in the <a href=\"https://www.codecademy.com/learn/data-processing-pandas\">Data Analysis with Pandas course</a> or the <a href=\"https://www.codecademy.com/learn/paths/data-science/\">Data Scientist Career Path</a>.\n",
    "\n",
    "Finally, the <a href=\"https://www.codecademy.com/learn/practical-data-cleaning\">Practical Data Cleaning</a> course may also be helpful."
   ]
  },
  {
   "cell_type": "markdown",
   "metadata": {},
   "source": [
    "## Project Requirements"
   ]
  },
  {
   "cell_type": "markdown",
   "metadata": {},
   "source": [
    "1. We've provided a csv file containing data about the game show _Jeopardy!_ in a file named `jeopardy.csv`. Load the data into a DataFrame and investigate its contents. Try to print out specific columns.\n",
    "\n",
    "   Note that in order to make this project as \"real-world\" as possible, we haven't modified the data at all - we're giving it to you exactly how we found it. As a result, this data isn't as \"clean\" as the datasets you normally find on Codecademy. More specifically, there's something odd about the column names. After you figure out the problem with the column names, you may want to rename them to make your life easier for the rest of the project.\n",
    "   \n",
    "   In order to display the full contents of a column, we've added this line of code for you:\n",
    "   \n",
    "   ```py\n",
    "   pd.set_option('display.max_colwidth', None)\n",
    "   ```"
   ]
  },
  {
   "cell_type": "code",
   "execution_count": 3,
   "metadata": {},
   "outputs": [
    {
     "name": "stdout",
     "output_type": "stream",
     "text": [
      "        Show Number    Air Date             Round  \\\n",
      "0              4680  2004-12-31         Jeopardy!   \n",
      "1              4680  2004-12-31         Jeopardy!   \n",
      "2              4680  2004-12-31         Jeopardy!   \n",
      "3              4680  2004-12-31         Jeopardy!   \n",
      "4              4680  2004-12-31         Jeopardy!   \n",
      "...             ...         ...               ...   \n",
      "216925         4999  2006-05-11  Double Jeopardy!   \n",
      "216926         4999  2006-05-11  Double Jeopardy!   \n",
      "216927         4999  2006-05-11  Double Jeopardy!   \n",
      "216928         4999  2006-05-11  Double Jeopardy!   \n",
      "216929         4999  2006-05-11   Final Jeopardy!   \n",
      "\n",
      "                               Category  Value  \\\n",
      "0                               HISTORY   $200   \n",
      "1       ESPN's TOP 10 ALL-TIME ATHLETES   $200   \n",
      "2           EVERYBODY TALKS ABOUT IT...   $200   \n",
      "3                      THE COMPANY LINE   $200   \n",
      "4                   EPITAPHS & TRIBUTES   $200   \n",
      "...                                 ...    ...   \n",
      "216925                   RIDDLE ME THIS  $2000   \n",
      "216926                        \"T\" BIRDS  $2000   \n",
      "216927           AUTHORS IN THEIR YOUTH  $2000   \n",
      "216928                       QUOTATIONS  $2000   \n",
      "216929                   HISTORIC NAMES   None   \n",
      "\n",
      "                                                                                                                      Question  \\\n",
      "0                             For the last 8 years of his life, Galileo was under house arrest for espousing this man's theory   \n",
      "1                  No. 2: 1912 Olympian; football star at Carlisle Indian School; 6 MLB seasons with the Reds, Giants & Braves   \n",
      "2                                     The city of Yuma in this state has a record average of 4,055 hours of sunshine each year   \n",
      "3                                         In 1963, live on \"The Art Linkletter Show\", this company served its billionth burger   \n",
      "4                     Signer of the Dec. of Indep., framer of the Constitution of Mass., second President of the United States   \n",
      "...                                                                                                                        ...   \n",
      "216925                                              This Puccini opera turns on the solution to 3 riddles posed by the heroine   \n",
      "216926                 In North America this term is properly applied to only 4 species that are crested, including the tufted   \n",
      "216927               In Penny Lane, where this \"Hellraiser\" grew up, the barber shaves another customer--then flays him alive!   \n",
      "216928  From Ft. Sill, Okla. he made the plea, Arizona is my land, my home, my father's land, to which I now ask to... return\"   \n",
      "216929                 A silent movie title includes the last name of this 18th c. statesman & favorite of Catherine the Great   \n",
      "\n",
      "                                Answer  \n",
      "0                           Copernicus  \n",
      "1                           Jim Thorpe  \n",
      "2                              Arizona  \n",
      "3                           McDonald's  \n",
      "4                           John Adams  \n",
      "...                                ...  \n",
      "216925                        Turandot  \n",
      "216926                      a titmouse  \n",
      "216927                    Clive Barker  \n",
      "216928                        Geronimo  \n",
      "216929  Grigori Alexandrovich Potemkin  \n",
      "\n",
      "[216930 rows x 7 columns]\n"
     ]
    }
   ],
   "source": [
    "import pandas as pd\n",
    "import numpy\n",
    "pd.set_option('display.max_colwidth', None)\n",
    "\n",
    "df = pd.read_csv('jeopardy.csv')\n",
    "print(df)"
   ]
  },
  {
   "cell_type": "markdown",
   "metadata": {},
   "source": [
    "2. Write a function that filters the dataset for questions that contains all of the words in a list of words. For example, when the list `[\"King\", \"England\"]` was passed to our function, the function returned a DataFrame of 49 rows. Every row had the strings `\"King\"` and `\"England\"` somewhere in its `\" Question\"`.\n",
    "\n",
    "   Test your function by printing out the column containing the question of each row of the dataset."
   ]
  },
  {
   "cell_type": "code",
   "execution_count": 4,
   "metadata": {
    "collapsed": true
   },
   "outputs": [
    {
     "data": {
      "text/plain": [
       "'\\n\\n\\n\\n# Filtering a dataset by a list of words\\ndef filter_data(df, words):\\n  # Lowercases all words in the list of words as well as the questions. Returns true if all of the words in the list appear in the question.\\n  filter = lambda x: all(\\'{}\\'.format(word.lower()) in \\'{}\\'.format(x.lower()) for word in words)\\n  # Applies the lambda function to the Question column and returns the rows where the function returned True\\n  return df.loc[df[\"question\"].apply(filter)].reset_index()\\n\\n# Testing the filter function\\n\\nfiltered = filter_data(df, words)\\nprint(filtered[\"question\"])\\n'"
      ]
     },
     "execution_count": 4,
     "metadata": {},
     "output_type": "execute_result"
    }
   ],
   "source": [
    "df = pd.read_csv('jeopardy.csv')\n",
    "\n",
    "df.rename(columns={'Show Number':'show_number',' Air Date':'date',' Round':'round',' Category':'category',\" Value\":'value', ' Question':'question',' Answer':'answers'}, errors= 'raise', inplace = True) \n",
    "\n",
    "#print(df.head())\n",
    "#print(df.columns)\n",
    "\n",
    "# My starting solution, works but does detect input also contained in other words,\n",
    "# like 'viking' is detecet when given 'King' as input\n",
    "\n",
    "def words_scanner(list_of_words, df):\n",
    "    # The function accepts a list of words then create a new DataFrame starting from original one  with only rows\n",
    "    # containing the first word of the list, then it iterates through the list to scan the new df with every words\n",
    "    # The resulting datafram will contain all rows that matching all the words in the list\n",
    "        new_df = df[df.question.str.contains(list_of_words[0], case=False)].reset_index()\n",
    "        \n",
    "        #starting loop at 1 index to skip the first word that has been already used to create the current df\n",
    "        i = 1\n",
    "        for i in range(len(list_of_words)):\n",
    "            new_df2 = new_df[new_df.question.str.contains(list_of_words[i])].reset_index()\n",
    "            i=+1\n",
    "        return new_df2\n",
    "\n",
    "\n",
    "\n",
    "# Notebooke solution, works but does detect input also contained in other words,\n",
    "# like 'viking' is detecet when given 'King' as input\n",
    "\n",
    "#putting white-space after desired words seems to partially solve the issue, need to test other combo of words\n",
    "\"\"\"\n",
    "\n",
    "\n",
    "\n",
    "# Filtering a dataset by a list of words\n",
    "def filter_data(df, words):\n",
    "  # Lowercases all words in the list of words as well as the questions. Returns true if all of the words in the list appear in the question.\n",
    "  filter = lambda x: all('{}'.format(word.lower()) in '{}'.format(x.lower()) for word in words)\n",
    "  # Applies the lambda function to the Question column and returns the rows where the function returned True\n",
    "  return df.loc[df[\"question\"].apply(filter)].reset_index()\n",
    "\n",
    "# Testing the filter function\n",
    "\n",
    "filtered = filter_data(df, words)\n",
    "print(filtered[\"question\"])\n",
    "\"\"\"\n",
    "\n"
   ]
  },
  {
   "cell_type": "code",
   "execution_count": null,
   "metadata": {
    "scrolled": true
   },
   "outputs": [],
   "source": [
    "\n"
   ]
  },
  {
   "cell_type": "markdown",
   "metadata": {},
   "source": [
    "3. Test your original function with a few different sets of words to try to find some ways your function breaks. Edit your function so it is more robust.\n",
    "\n",
    "   For example, think about capitalization. We probably want to find questions that contain the word `\"King\"` or `\"king\"`.\n",
    "   \n",
    "   You may also want to check to make sure you don't find rows that contain substrings of your given words. For example, our function found a question that didn't contain the word `\"king\"`, however it did contain the word `\"viking\"` &mdash; it found the `\"king\"` inside `\"viking\"`. Note that this also comes with some drawbacks &mdash; you would no longer find questions that contained words like `\"England's\"`."
   ]
  },
  {
   "cell_type": "code",
   "execution_count": 33,
   "metadata": {
    "scrolled": true
   },
   "outputs": [
    {
     "name": "stdout",
     "output_type": "stream",
     "text": [
      "1ST  SCAN MATCHING ROWS FOUND: 152 \n",
      "\n",
      "   level_0  index               category        date  \\\n",
      "0      161   4953           \"PH\"UN WORDS  1997-09-24   \n",
      "1      207   6337                    Y1K  1999-12-14   \n",
      "2      300   9191         WON THE BATTLE  2001-09-04   \n",
      "3      391  11710       BRITISH MONARCHS  1997-03-26   \n",
      "4      436  13454  A NUMBER FROM 1 TO 10  2005-03-07   \n",
      "\n",
      "                                                                                                 question  \\\n",
      "0                Both England's King George V & FDR put their stamp of approval on this \"King of Hobbies\"   \n",
      "1  In retaliation for Viking raids, this \"Unready\" king of England attacks Norse areas of the Isle of Man   \n",
      "2                This king of England beat the odds to trounce the French in the 1415 Battle of Agincourt   \n",
      "3            This Scotsman, the first Stuart king of England, was called \"The Wisest Fool in Christendom\"   \n",
      "4                                    It's the number that followed the last king of England named William   \n",
      "\n",
      "   value                       answers  \n",
      "0   $200  Philately (stamp collecting)  \n",
      "1   $800                      Ethelred  \n",
      "2   $800                       Henry V  \n",
      "3   $600                       James I  \n",
      "4  $1000                             4  \n",
      "\n",
      "2ND SCAN MATCHING ROWS FOUND: 4 \n",
      "\n",
      "   level_0   index         category        date  \\\n",
      "0       29    7743  ROYAL BRITANNIA  2007-01-15   \n",
      "1      174   52709      WOMEN RULE!  2000-02-16   \n",
      "2      542  175600      WOMEN RULE!  1998-06-05   \n",
      "3      588  187124     WORD ORIGINS  2004-11-22   \n",
      "\n",
      "                                                                                                             question  \\\n",
      "0  In 1707 her title changed to Queen of Great Britain & Ireland (it used to be Queen of England, Scotland & Ireland)   \n",
      "1                                              She was less than a week old when she became queen of Scotland in 1542   \n",
      "2                                    This queen of Scotland got the ax -- literally -- at Fotheringhay Castle in 1587   \n",
      "3          Originally used to designate an errand boy, it was introduced into Scotland by golfer Mary, Queen of Scots   \n",
      "\n",
      "  value                             answers  \n",
      "0  $800                          Queen Anne  \n",
      "1  $100       Mary, Queen of Scots (Mary I)  \n",
      "2  $400  Mary, Queen of Scots (Mary Stuart)  \n",
      "3  $600                             a caddy  \n"
     ]
    }
   ],
   "source": [
    "#1st scan. \"King\" \"England\"\n",
    "\n",
    "words = ['king','England']\n",
    "new_df = words_scanner(words, df)\n",
    "print(\"1st  scan MATCHING ROWS FOUND: \".upper() + str(len(new_df)),'\\n' )\n",
    "print(new_df.head())\n",
    "\n",
    "\n",
    "#2nd Scan \"Queen\" \"Scotland\"\n",
    "words2 = [' Queen ',' Scotland ']\n",
    "new_df2 = words_scanner(words2, df)\n",
    "\n",
    "\n",
    "print(\"\\n2nd SCAN MATCHING ROWS FOUND: \".upper() + str(len(new_df2)),'\\n')\n",
    "print(new_df2.head())\n",
    "\n"
   ]
  },
  {
   "cell_type": "code",
   "execution_count": 35,
   "metadata": {},
   "outputs": [
    {
     "data": {
      "text/html": [
       "<div>\n",
       "<style scoped>\n",
       "    .dataframe tbody tr th:only-of-type {\n",
       "        vertical-align: middle;\n",
       "    }\n",
       "\n",
       "    .dataframe tbody tr th {\n",
       "        vertical-align: top;\n",
       "    }\n",
       "\n",
       "    .dataframe thead th {\n",
       "        text-align: right;\n",
       "    }\n",
       "</style>\n",
       "<table border=\"1\" class=\"dataframe\">\n",
       "  <thead>\n",
       "    <tr style=\"text-align: right;\">\n",
       "      <th></th>\n",
       "      <th>question</th>\n",
       "      <th>value</th>\n",
       "      <th>answers</th>\n",
       "    </tr>\n",
       "  </thead>\n",
       "  <tbody>\n",
       "    <tr>\n",
       "      <th>0</th>\n",
       "      <td>Both England's King George V &amp; FDR put their stamp of approval on this \"King of Hobbies\"</td>\n",
       "      <td>$200</td>\n",
       "      <td>Philately (stamp collecting)</td>\n",
       "    </tr>\n",
       "    <tr>\n",
       "      <th>1</th>\n",
       "      <td>In retaliation for Viking raids, this \"Unready\" king of England attacks Norse areas of the Isle of Man</td>\n",
       "      <td>$800</td>\n",
       "      <td>Ethelred</td>\n",
       "    </tr>\n",
       "    <tr>\n",
       "      <th>2</th>\n",
       "      <td>This king of England beat the odds to trounce the French in the 1415 Battle of Agincourt</td>\n",
       "      <td>$800</td>\n",
       "      <td>Henry V</td>\n",
       "    </tr>\n",
       "    <tr>\n",
       "      <th>3</th>\n",
       "      <td>This Scotsman, the first Stuart king of England, was called \"The Wisest Fool in Christendom\"</td>\n",
       "      <td>$600</td>\n",
       "      <td>James I</td>\n",
       "    </tr>\n",
       "    <tr>\n",
       "      <th>4</th>\n",
       "      <td>It's the number that followed the last king of England named William</td>\n",
       "      <td>$1000</td>\n",
       "      <td>4</td>\n",
       "    </tr>\n",
       "    <tr>\n",
       "      <th>...</th>\n",
       "      <td>...</td>\n",
       "      <td>...</td>\n",
       "      <td>...</td>\n",
       "    </tr>\n",
       "    <tr>\n",
       "      <th>147</th>\n",
       "      <td>In 1066 this great-great grandson of Rollo made what some call the last Viking invasion of England</td>\n",
       "      <td>$600</td>\n",
       "      <td>William the Conqueror</td>\n",
       "    </tr>\n",
       "    <tr>\n",
       "      <th>148</th>\n",
       "      <td>Dutch-born king who ruled England jointly with Mary II &amp; is a tasty New Zealand fish</td>\n",
       "      <td>$3,000</td>\n",
       "      <td>William of Orange roughy</td>\n",
       "    </tr>\n",
       "    <tr>\n",
       "      <th>149</th>\n",
       "      <td>In 1781 William Herschel discovered Uranus &amp; initially named it after this king of England</td>\n",
       "      <td>$1600</td>\n",
       "      <td>George III</td>\n",
       "    </tr>\n",
       "    <tr>\n",
       "      <th>150</th>\n",
       "      <td>His nickname was \"Bertie\", but he used this name &amp; number when he became king of England in 1901</td>\n",
       "      <td>$1000</td>\n",
       "      <td>Edward VII</td>\n",
       "    </tr>\n",
       "    <tr>\n",
       "      <th>151</th>\n",
       "      <td>This kingdom of England grew from 2 settlements, one founded around 495 by Cerdic &amp; his son Cynric</td>\n",
       "      <td>$1200</td>\n",
       "      <td>Wessex</td>\n",
       "    </tr>\n",
       "  </tbody>\n",
       "</table>\n",
       "<p>152 rows × 3 columns</p>\n",
       "</div>"
      ],
      "text/plain": [
       "                                                                                                   question  \\\n",
       "0                  Both England's King George V & FDR put their stamp of approval on this \"King of Hobbies\"   \n",
       "1    In retaliation for Viking raids, this \"Unready\" king of England attacks Norse areas of the Isle of Man   \n",
       "2                  This king of England beat the odds to trounce the French in the 1415 Battle of Agincourt   \n",
       "3              This Scotsman, the first Stuart king of England, was called \"The Wisest Fool in Christendom\"   \n",
       "4                                      It's the number that followed the last king of England named William   \n",
       "..                                                                                                      ...   \n",
       "147      In 1066 this great-great grandson of Rollo made what some call the last Viking invasion of England   \n",
       "148                    Dutch-born king who ruled England jointly with Mary II & is a tasty New Zealand fish   \n",
       "149              In 1781 William Herschel discovered Uranus & initially named it after this king of England   \n",
       "150        His nickname was \"Bertie\", but he used this name & number when he became king of England in 1901   \n",
       "151      This kingdom of England grew from 2 settlements, one founded around 495 by Cerdic & his son Cynric   \n",
       "\n",
       "      value                       answers  \n",
       "0      $200  Philately (stamp collecting)  \n",
       "1      $800                      Ethelred  \n",
       "2      $800                       Henry V  \n",
       "3      $600                       James I  \n",
       "4     $1000                             4  \n",
       "..      ...                           ...  \n",
       "147    $600         William the Conqueror  \n",
       "148  $3,000      William of Orange roughy  \n",
       "149   $1600                    George III  \n",
       "150   $1000                    Edward VII  \n",
       "151   $1200                        Wessex  \n",
       "\n",
       "[152 rows x 3 columns]"
      ]
     },
     "execution_count": 35,
     "metadata": {},
     "output_type": "execute_result"
    }
   ],
   "source": [
    "mask = new_df['value'].str.contains(\"$\")\n",
    "\n",
    "new_df.loc[mask, ['question', 'value','answers']]"
   ]
  },
  {
   "cell_type": "markdown",
   "metadata": {},
   "source": [
    "4. We may want to eventually compute aggregate statistics, like `.mean()` on the `\" Value\"` column. But right now, the values in that column are strings. Convert the`\" Value\"` column to floats. If you'd like to, you can create a new column with float values.\n",
    "\n",
    "   Now that you can filter the dataset of question, use your new column that contains the float values of each question to find the \"difficulty\" of certain topics. For example, what is the average value of questions that contain the word `\"King\"`?\n",
    "   \n",
    "   Make sure to use the dataset that contains the float values as the dataset you use in your filtering function."
   ]
  },
  {
   "cell_type": "code",
   "execution_count": 36,
   "metadata": {
    "scrolled": false
   },
   "outputs": [
    {
     "name": "stdout",
     "output_type": "stream",
     "text": [
      "\n",
      "\n",
      "\n",
      "THE MEDIAN VALUE FOR QUESTIONS CONTAINING WORDS \"KING\" AND \"ENGLAND\" IS:  741.0$\n"
     ]
    },
    {
     "data": {
      "text/html": [
       "<div>\n",
       "<style scoped>\n",
       "    .dataframe tbody tr th:only-of-type {\n",
       "        vertical-align: middle;\n",
       "    }\n",
       "\n",
       "    .dataframe tbody tr th {\n",
       "        vertical-align: top;\n",
       "    }\n",
       "\n",
       "    .dataframe thead th {\n",
       "        text-align: right;\n",
       "    }\n",
       "</style>\n",
       "<table border=\"1\" class=\"dataframe\">\n",
       "  <thead>\n",
       "    <tr style=\"text-align: right;\">\n",
       "      <th></th>\n",
       "      <th>question</th>\n",
       "      <th>value_float</th>\n",
       "    </tr>\n",
       "  </thead>\n",
       "  <tbody>\n",
       "    <tr>\n",
       "      <th>0</th>\n",
       "      <td>Both England's King George V &amp; FDR put their stamp of approval on this \"King of Hobbies\"</td>\n",
       "      <td>200.0</td>\n",
       "    </tr>\n",
       "    <tr>\n",
       "      <th>1</th>\n",
       "      <td>In retaliation for Viking raids, this \"Unready\" king of England attacks Norse areas of the Isle of Man</td>\n",
       "      <td>800.0</td>\n",
       "    </tr>\n",
       "    <tr>\n",
       "      <th>2</th>\n",
       "      <td>This king of England beat the odds to trounce the French in the 1415 Battle of Agincourt</td>\n",
       "      <td>800.0</td>\n",
       "    </tr>\n",
       "    <tr>\n",
       "      <th>3</th>\n",
       "      <td>This Scotsman, the first Stuart king of England, was called \"The Wisest Fool in Christendom\"</td>\n",
       "      <td>600.0</td>\n",
       "    </tr>\n",
       "    <tr>\n",
       "      <th>4</th>\n",
       "      <td>It's the number that followed the last king of England named William</td>\n",
       "      <td>1000.0</td>\n",
       "    </tr>\n",
       "    <tr>\n",
       "      <th>...</th>\n",
       "      <td>...</td>\n",
       "      <td>...</td>\n",
       "    </tr>\n",
       "    <tr>\n",
       "      <th>147</th>\n",
       "      <td>In 1066 this great-great grandson of Rollo made what some call the last Viking invasion of England</td>\n",
       "      <td>600.0</td>\n",
       "    </tr>\n",
       "    <tr>\n",
       "      <th>148</th>\n",
       "      <td>Dutch-born king who ruled England jointly with Mary II &amp; is a tasty New Zealand fish</td>\n",
       "      <td>3.0</td>\n",
       "    </tr>\n",
       "    <tr>\n",
       "      <th>149</th>\n",
       "      <td>In 1781 William Herschel discovered Uranus &amp; initially named it after this king of England</td>\n",
       "      <td>1600.0</td>\n",
       "    </tr>\n",
       "    <tr>\n",
       "      <th>150</th>\n",
       "      <td>His nickname was \"Bertie\", but he used this name &amp; number when he became king of England in 1901</td>\n",
       "      <td>1000.0</td>\n",
       "    </tr>\n",
       "    <tr>\n",
       "      <th>151</th>\n",
       "      <td>This kingdom of England grew from 2 settlements, one founded around 495 by Cerdic &amp; his son Cynric</td>\n",
       "      <td>1200.0</td>\n",
       "    </tr>\n",
       "  </tbody>\n",
       "</table>\n",
       "<p>152 rows × 2 columns</p>\n",
       "</div>"
      ],
      "text/plain": [
       "                                                                                                   question  \\\n",
       "0                  Both England's King George V & FDR put their stamp of approval on this \"King of Hobbies\"   \n",
       "1    In retaliation for Viking raids, this \"Unready\" king of England attacks Norse areas of the Isle of Man   \n",
       "2                  This king of England beat the odds to trounce the French in the 1415 Battle of Agincourt   \n",
       "3              This Scotsman, the first Stuart king of England, was called \"The Wisest Fool in Christendom\"   \n",
       "4                                      It's the number that followed the last king of England named William   \n",
       "..                                                                                                      ...   \n",
       "147      In 1066 this great-great grandson of Rollo made what some call the last Viking invasion of England   \n",
       "148                    Dutch-born king who ruled England jointly with Mary II & is a tasty New Zealand fish   \n",
       "149              In 1781 William Herschel discovered Uranus & initially named it after this king of England   \n",
       "150        His nickname was \"Bertie\", but he used this name & number when he became king of England in 1901   \n",
       "151      This kingdom of England grew from 2 settlements, one founded around 495 by Cerdic & his son Cynric   \n",
       "\n",
       "     value_float  \n",
       "0          200.0  \n",
       "1          800.0  \n",
       "2          800.0  \n",
       "3          600.0  \n",
       "4         1000.0  \n",
       "..           ...  \n",
       "147        600.0  \n",
       "148          3.0  \n",
       "149       1600.0  \n",
       "150       1000.0  \n",
       "151       1200.0  \n",
       "\n",
       "[152 rows x 2 columns]"
      ]
     },
     "execution_count": 36,
     "metadata": {},
     "output_type": "execute_result"
    }
   ],
   "source": [
    "try:\n",
    "    new_df['value_float'] = new_df.value.apply(lambda x: x.replace(\"$\",\"\").replace(',','.').replace(\"None\",\"0\"))\n",
    "    new_df['value_float'] = new_df['value_float'].astype(float)\n",
    "    \n",
    "except :\n",
    "    pass\n",
    "\n",
    "print(\"\\n\\n\\nThe median value for questions containing words \\\"King\\\" and \\\"England\\\" is:  \".upper() + str(round(new_df.value_float.mean(),0)) +\"$\")\n",
    "mask = new_df['value'].str.contains(\"$\")\n",
    "\n",
    "new_df.loc[mask, ['question', 'value_float']]"
   ]
  },
  {
   "cell_type": "markdown",
   "metadata": {},
   "source": [
    "5. Write a function that returns the count of unique answers to all of the questions in a dataset. For example, after filtering the entire dataset to only questions containing the word `\"King\"`, we could then find all of the unique answers to those questions. The answer \"Henry VIII\" appeared 55 times and was the most common answer."
   ]
  },
  {
   "cell_type": "code",
   "execution_count": 40,
   "metadata": {},
   "outputs": [
    {
     "name": "stdout",
     "output_type": "stream",
     "text": [
      "Lenght of current df:5881\n",
      "   level_0  index                    category        date  \\\n",
      "0        0     34                 \"X\"s & \"O\"s  2004-12-31   \n",
      "1        1     40  DR. SEUSS AT THE MULTIPLEX  2004-12-31   \n",
      "2        2     50  DR. SEUSS AT THE MULTIPLEX  2004-12-31   \n",
      "3        3     56               GEOGRAPHY \"E\"  2010-07-06   \n",
      "4        4     72                LET'S BOUNCE  2010-07-06   \n",
      "\n",
      "                                                                                                                                                                            question  \\\n",
      "0                                                                              Around 100 A.D. Tacitus wrote a book on how this art of persuasive speaking had declined since Cicero   \n",
      "1  <a href=\"http://www.j-archive.com/media/2004-12-31_DJ_26.mp3\">Ripped from today's headlines, he was a turtle king gone mad; Mack was the one good turtle who'd bring him down</a>   \n",
      "2                <a href=\"http://www.j-archive.com/media/2004-12-31_DJ_24.mp3\">\"500 Hats\"... 500 ways to die.  On July 4th, this young boy will defy a king... & become a legend</a>   \n",
      "3                                                                                                                                     It's the largest kingdom in the United Kingdom   \n",
      "4                                                                                        In this kid's game, you bounce a small rubber ball while picking up 6-pronged metal objects   \n",
      "\n",
      "   value              answers  \n",
      "0   $400              oratory  \n",
      "1  $1200               Yertle  \n",
      "2  $2000  Bartholomew Cubbins  \n",
      "3   $200              England  \n",
      "4   $600                jacks  \n"
     ]
    },
    {
     "data": {
      "text/plain": [
       "Henry VIII     53\n",
       "Richard III    31\n",
       "Solomon        30\n",
       "David          25\n",
       "Louis XIV      24\n",
       "               ..\n",
       "mockingbird     1\n",
       "John Major      1\n",
       "Son of Sam      1\n",
       "adrift          1\n",
       "work            1\n",
       "Name: answers, Length: 4452, dtype: int64"
      ]
     },
     "execution_count": 40,
     "metadata": {},
     "output_type": "execute_result"
    }
   ],
   "source": [
    "# Note the space before king and after , it is to avoid finding words ending with king like \"speaking\"\n",
    "words = ['king']\n",
    "new_df = words_scanner(words, df)\n",
    "print(\"Lenght of current df:\" + str(len(new_df)))\n",
    "print(new_df.head(5))\n",
    "\n",
    "def answers_scanner(df):\n",
    "    # The function accepts a filtered df from previous step and retuern count of unique answers to selected filter\n",
    "    unique_list = df['answers'].value_counts()\n",
    "    return unique_list\n",
    "\n",
    "    \n",
    "\n",
    "answers_scanner(new_df)\n",
    "\n"
   ]
  },
  {
   "cell_type": "markdown",
   "metadata": {},
   "source": [
    "6. Explore from here! This is an incredibly rich dataset, and there are so many interesting things to discover. There are a few columns that we haven't even started looking at yet. Here are some ideas on ways to continue working with this data:\n",
    "\n",
    " * Investigate the ways in which questions change over time by filtering by the date. How many questions from the 90s use the word `\"Computer\"` compared to questions from the 2000s?\n",
    " * Is there a connection between the round and the category? Are you more likely to find certain categories, like `\"Literature\"` in Single Jeopardy or Double Jeopardy?\n",
    " * Build a system to quiz yourself. Grab random questions, and use the <a href=\"https://docs.python.org/3/library/functions.html#input\">input</a> function to get a response from the user. Check to see if that response was right or wrong."
   ]
  },
  {
   "cell_type": "code",
   "execution_count": 8,
   "metadata": {},
   "outputs": [
    {
     "name": "stdout",
     "output_type": "stream",
     "text": [
      "Lenght of 90s df:96\n",
      "Lenght of 00s df:302\n",
      "It is increased by: 214.58%\n"
     ]
    }
   ],
   "source": [
    "# number 1 : Frequency of word \"Computer\" in questions before and after date \"1999-12-31\"\n",
    "\n",
    "questions_before = df[df.date <= \"1999-12-31\"].reset_index(drop=True)\n",
    "questions_after = df[df.date > \"1999-12-31\"].reset_index(drop=True)\n",
    "\n",
    "#print(questions_before.head(5))\n",
    "\n",
    "#print(questions_after.head(5))\n",
    "\n",
    "words = ['computer']\n",
    "new_df_before = words_scanner(words, questions_before)\n",
    "print(\"Lenght of 90s df:\" + str(len(new_df_before)))\n",
    "#print(new_df_before)\n",
    "\n",
    "\n",
    "new_df_after = words_scanner(words, questions_after)\n",
    "print(\"Lenght of 00s df:\" + str(len(new_df_after)))\n",
    "#print(new_df_after)\n",
    "\n",
    "\n",
    "#print('The word /\"computer/\" appeared ' + str(len(new_df_before) + ' before 2000s and '+ str(len(new_df_after) + ' after')))\n",
    "increase_percent = round(((len(new_df_after)-len(new_df_before))/len(new_df_before))*100, 2)\n",
    "      \n",
    "print('It is increased by: ' + str(increase_percent) + '%')\n",
    "\n",
    "\n"
   ]
  },
  {
   "cell_type": "code",
   "execution_count": 9,
   "metadata": {},
   "outputs": [
    {
     "name": "stdout",
     "output_type": "stream",
     "text": [
      "TOP 15 1st Round Category: \n",
      "                      round\n",
      "category                  \n",
      "POTPOURRI              255\n",
      "STUPID ANSWERS         255\n",
      "SPORTS                 253\n",
      "ANIMALS                233\n",
      "AMERICAN HISTORY       227\n",
      "SCIENCE                217\n",
      "STATE CAPITALS         210\n",
      "TELEVISION             200\n",
      "U.S. CITIES            195\n",
      "BUSINESS & INDUSTRY    185\n",
      "U.S. GEOGRAPHY         183\n",
      "COMMON BONDS           180\n",
      "POP MUSIC              180\n",
      "TRANSPORTATION         178\n",
      "PEOPLE                 175\n",
      "\n",
      "TOP 15 2nd Round Category: \n",
      "                          round\n",
      "category                      \n",
      "BEFORE & AFTER             450\n",
      "LITERATURE                 381\n",
      "SCIENCE                    296\n",
      "WORLD GEOGRAPHY            254\n",
      "OPERA                      250\n",
      "WORLD HISTORY              237\n",
      "BALLET                     230\n",
      "COLLEGES & UNIVERSITIES    220\n",
      "ART                        215\n",
      "ISLANDS                    215\n",
      "CLASSICAL MUSIC            213\n",
      "SHAKESPEARE                211\n",
      "ART & ARTISTS              209\n",
      "FICTIONAL CHARACTERS       198\n",
      "LANGUAGES                  198\n"
     ]
    }
   ],
   "source": [
    "# number 2 : Categories percentual in different rounds (\"Jeopdardy\" or \"Double Jeopardy\")\n",
    "\n",
    "#splitting df in 2 subset containing related rows \n",
    "questions_jeop = df[df['round'] == \"Jeopardy!\"].reset_index(drop=True)\n",
    "questions_djeop = df[df['round'] == \"Double Jeopardy!\"].reset_index(drop=True)\n",
    "\n",
    "#printing to check correct execution\n",
    "#print(questions_djeop.head(5))\n",
    "#print(questions_jeop.head(5))\n",
    "\n",
    "jeop = questions_jeop[['category', 'round']]\n",
    "grouped_jeop = jeop.groupby('category').count()\n",
    "print('TOP 15 1st Round Category: \\n',grouped_jeop.nlargest(15, 'round'))\n",
    "\n",
    "djeop = questions_djeop[['category', 'round']]\n",
    "grouped_djeop = djeop.groupby('category').count()\n",
    "print('\\nTOP 15 2nd Round Category: \\n',grouped_djeop.nlargest(15, 'round'))\n",
    "#djeop = questions_djeop[['category', 'question']]\n",
    "\n",
    "#sorted_djeop = djeop.sort_values(['category','question']).reset_index(drop=True)\n",
    "#grouped_jeop = sorted_jeop.groupby(['category']).count()\n",
    "\n",
    "#print(sorted_djeop)\n"
   ]
  },
  {
   "cell_type": "code",
   "execution_count": 20,
   "metadata": {},
   "outputs": [
    {
     "name": "stdout",
     "output_type": "stream",
     "text": [
      "category                                                 GEORGE WASHINGTON\n",
      "date                                                            2010-07-05\n",
      "question    George's entire tenure as president took place in this century\n",
      "value                                                                $1200\n",
      "answers                                             the eighteenth century\n",
      "Name: 80960, dtype: object\n",
      "the eighteenth century\n",
      "CORRECT\n"
     ]
    }
   ],
   "source": [
    "# number 3 .  Build a system to test yourself\n",
    "import random\n",
    "# creating subset of df with just desired columns\n",
    "df = df[['category','date','question','value','answers']]\n",
    "\n",
    "# defining function that will generate random index between 0 and df lenght,  will get related row in existing df\n",
    "# then it will shows the row containing question details to user\n",
    "# will ask for \"Answer\" stored inside answer variable and will compare it with the actual anser\n",
    "# eventually it will provide the result \"CORRECT\" or \"NAAAH\". \n",
    "# Do not leave answer input empty or function will crash the program and kernel restart will be required.\n",
    "\n",
    "def question_picker():\n",
    "    max_index = len(df)\n",
    "    index = random.randint(0, max_index)\n",
    "    question = df[['category','date','question','value','answers']].loc[index]\n",
    "    print(question)\n",
    "    answer = input()\n",
    "    if answer == df.loc[index]['answers']:\n",
    "        print('CORRECT')\n",
    "    else:\n",
    "        print(\"NAAAAH\")\n",
    "        \n",
    "\n",
    "\n",
    "\n",
    "question_picker()    \n",
    "\n",
    "    \n"
   ]
  },
  {
   "cell_type": "code",
   "execution_count": 16,
   "metadata": {},
   "outputs": [
    {
     "name": "stdout",
     "output_type": "stream",
     "text": [
      "category                                                         OTHER CIVIL WARS\n",
      "date                                                                   2010-11-03\n",
      "question    This country's civil war, lasting from 1936 to 1939, began in Morocco\n",
      "value                                                                      $1,200\n",
      "answers                                                                     Spain\n",
      "Name: 99690, dtype: object\n",
      "Spain\n",
      "CORRECT\n"
     ]
    }
   ],
   "source": []
  },
  {
   "cell_type": "code",
   "execution_count": null,
   "metadata": {},
   "outputs": [],
   "source": []
  },
  {
   "cell_type": "markdown",
   "metadata": {},
   "source": [
    "## Solution"
   ]
  },
  {
   "cell_type": "markdown",
   "metadata": {},
   "source": [
    "7. Compare your program to our <a href=\"https://content.codecademy.com/PRO/independent-practice-projects/jeopardy/jeopardy_solution.zip\">sample solution code</a> - remember, that your program might look different from ours (and probably will) and that's okay!"
   ]
  },
  {
   "cell_type": "markdown",
   "metadata": {},
   "source": [
    "8. Great work! Visit <a href=\"https://discuss.codecademy.com/t/this-is-jeopardy-challenge-project-python-pandas/462365\">our forums</a> to compare your project to our sample solution code. You can also learn how to host your own solution on GitHub so you can share it with other learners! Your solution might look different from ours, and that's okay! There are multiple ways to solve these projects, and you'll learn more by seeing others' code."
   ]
  },
  {
   "cell_type": "code",
   "execution_count": null,
   "metadata": {},
   "outputs": [],
   "source": []
  },
  {
   "cell_type": "code",
   "execution_count": null,
   "metadata": {},
   "outputs": [],
   "source": []
  },
  {
   "cell_type": "code",
   "execution_count": null,
   "metadata": {},
   "outputs": [],
   "source": []
  },
  {
   "cell_type": "code",
   "execution_count": null,
   "metadata": {},
   "outputs": [],
   "source": []
  }
 ],
 "metadata": {
  "kernelspec": {
   "display_name": "Python 3 (ipykernel)",
   "language": "python",
   "name": "python3"
  },
  "language_info": {
   "codemirror_mode": {
    "name": "ipython",
    "version": 3
   },
   "file_extension": ".py",
   "mimetype": "text/x-python",
   "name": "python",
   "nbconvert_exporter": "python",
   "pygments_lexer": "ipython3",
   "version": "3.9.7"
  }
 },
 "nbformat": 4,
 "nbformat_minor": 2
}
