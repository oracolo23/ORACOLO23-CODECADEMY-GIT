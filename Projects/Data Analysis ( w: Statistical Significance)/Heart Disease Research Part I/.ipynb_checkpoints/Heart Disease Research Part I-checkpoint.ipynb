{
 "cells": [
  {
   "cell_type": "markdown",
   "id": "7fb6b080",
   "metadata": {},
   "source": [
    "# Heart Disease Research Part I\n"
   ]
  },
  {
   "cell_type": "markdown",
   "id": "5b92eade",
   "metadata": {},
   "source": [
    "In this project, you’ll investigate some data from a sample patients who were evaluated for heart disease at the Cleveland Clinic Foundation. The data was downloaded from the UCI Machine Learning Repository (https://archive.ics.uci.edu/ml/datasets/Heart+Disease) and then cleaned for analysis.\n",
    "The principal investigators responsible for data collection were:\n",
    "\n",
    "1. Hungarian Institute of Cardiology. Budapest: Andras Janosi, M.D.\n",
    "2. University Hospital, Zurich, Switzerland: William Steinbrunn, M.D.\n",
    "3. University Hospital, Basel, Switzerland: Matthias Pfisterer, M.D.\n",
    "4. V.A. Medical Center, Long Beach and Cleveland Clinic Foundation: Robert Detrano, M.D., Ph.D."
   ]
  },
  {
   "cell_type": "markdown",
   "id": "a3aad867",
   "metadata": {},
   "source": [
    "### Cholesterol Analysis\n"
   ]
  },
  {
   "cell_type": "markdown",
   "id": "545457c8",
   "metadata": {},
   "source": [
    "The full dataset has been loaded for you as 'heart', then split into two subsets:\n",
    "\n",
    "- yes_hd, which contains data for patients with heart disease\n",
    "- no_hd, which contains data for patients without heart disease\n",
    "\n",
    "For this project, we’ll investigate the following variables:\n",
    "\n",
    "- chol: serum cholestorol in mg/dl\n",
    "- fbs: An indicator for whether fasting blood sugar is greater than 120 mg/dl (1 = true; 0 = false)"
   ]
  },
  {
   "cell_type": "code",
   "execution_count": 31,
   "id": "9a4835b5",
   "metadata": {},
   "outputs": [
    {
     "name": "stdout",
     "output_type": "stream",
     "text": [
      "303\n",
      "    age     sex  trestbps   chol                cp  exang  fbs  thalach  \\\n",
      "0  63.0    male     145.0  233.0    typical angina    0.0  1.0    150.0   \n",
      "1  67.0    male     160.0  286.0      asymptomatic    1.0  0.0    108.0   \n",
      "2  67.0    male     120.0  229.0      asymptomatic    1.0  0.0    129.0   \n",
      "3  37.0    male     130.0  250.0  non-anginal pain    0.0  0.0    187.0   \n",
      "4  41.0  female     130.0  204.0   atypical angina    0.0  0.0    172.0   \n",
      "5  56.0    male     120.0  236.0   atypical angina    0.0  0.0    178.0   \n",
      "6  62.0  female     140.0  268.0      asymptomatic    0.0  0.0    160.0   \n",
      "7  57.0  female     120.0  354.0      asymptomatic    1.0  0.0    163.0   \n",
      "8  63.0    male     130.0  254.0      asymptomatic    0.0  0.0    147.0   \n",
      "9  53.0    male     140.0  203.0      asymptomatic    1.0  1.0    155.0   \n",
      "\n",
      "  heart_disease  \n",
      "0       absence  \n",
      "1      presence  \n",
      "2      presence  \n",
      "3       absence  \n",
      "4       absence  \n",
      "5       absence  \n",
      "6      presence  \n",
      "7       absence  \n",
      "8      presence  \n",
      "9      presence  \n"
     ]
    }
   ],
   "source": [
    "import pandas as pd\n",
    "import matplotlib.pyplot as plt\n",
    "import numpy as np\n",
    "from scipy import stats\n",
    "# load data and splitting rows depeding on heart disease presence\n",
    "heart = pd.read_csv('heart_disease.csv')\n",
    "yes_hd = heart[heart.heart_disease == 'presence']\n",
    "no_hd = heart[heart.heart_disease == 'absence']\n",
    "\n",
    "print(heart.head(10))"
   ]
  },
  {
   "cell_type": "markdown",
   "id": "54dddcaa",
   "metadata": {},
   "source": [
    "To start, we’ll investigate cholesterol levels for patients with heart disease. We will use 'yes_hd' to save cholesterol levels for patients with heart disease as a variable named 'chol_hd'.\n",
    "\n",
    "In general, total cholesterol over 240 mg/dl is considered “high” (and therefore unhealthy). We will calculate the mean cholesterol level for patients who were diagnosed with heart disease and print it out. "
   ]
  },
  {
   "cell_type": "code",
   "execution_count": 30,
   "id": "95601bd0",
   "metadata": {},
   "outputs": [
    {
     "data": {
      "image/png": "[encoded data removed]",
      "text/plain": [
       "<Figure size 432x288 with 1 Axes>"
      ]
     },
     "metadata": {
      "needs_background": "light"
     },
     "output_type": "display_data"
    },
    {
     "name": "stdout",
     "output_type": "stream",
     "text": [
      "The mean for chol levels in our dataset is: 251.4748201438849\n"
     ]
    }
   ],
   "source": [
    "chol_hd = yes_hd.chol\n",
    "plt.hist(chol_hd)\n",
    "plt.show()\n",
    "print('The mean for chol levels in our dataset is: ' + str(chol_hd.mean()))"
   ]
  },
  {
   "cell_type": "markdown",
   "id": "ae9ae9bc",
   "metadata": {},
   "source": [
    "Do people with heart disease have high cholesterol levels (greater than or equal to 240 mg/dl) on average? We will import the function ttest_1samp from scipy.stats that we'll use to test the following null and alternative hypotheses:\n",
    "\n",
    "- Null: People with heart disease have an average cholesterol level equal to 240 mg/dl\n",
    "- Alternative: People with heart disease have an average cholesterol level that is greater than 240 mg/dl\n",
    "\n"
   ]
  },
  {
   "cell_type": "code",
   "execution_count": 23,
   "id": "3969983a",
   "metadata": {},
   "outputs": [
    {
     "name": "stdout",
     "output_type": "stream",
     "text": [
      "0.0035411033905155707\n"
     ]
    }
   ],
   "source": [
    "t_stat, p = stats.ttest_1samp(chol_hd, 240, alternative= 'greater')\n",
    "print(p)    "
   ]
  },
  {
   "cell_type": "markdown",
   "id": "4252fa4b",
   "metadata": {},
   "source": [
    "ttest_1samp has two inputs: the sample of values (in this case, the cholesterol levels for patients with heart disease) and the null  value (in this case, 240). It has two outputs, the t-statstic and a p-value.\n",
    "\n",
    "We set the alternative paramter to 'greater' in order to run a 1-side test and we got a p-value of 0,0035 .\n",
    "This is less than 0.05(standard significance threshold), suggesting that heart disease patients have an average cholesterol level significantly higher than 240 mg/dl.\n",
    "\n",
    "Let's do the same test for patients who were not diagnosed with heart disease\n"
   ]
  },
  {
   "cell_type": "code",
   "execution_count": 33,
   "id": "7f14c6b9",
   "metadata": {},
   "outputs": [
    {
     "data": {
      "image/png": "[encoded data removed]",
      "text/plain": [
       "<Figure size 432x288 with 1 Axes>"
      ]
     },
     "metadata": {
      "needs_background": "light"
     },
     "output_type": "display_data"
    },
    {
     "name": "stdout",
     "output_type": "stream",
     "text": [
      "The mean for chol levels in our dataset is: 242.640243902439\n",
      "0.26397120232220506\n"
     ]
    }
   ],
   "source": [
    "chol_nhd = no_hd.chol\n",
    "plt.hist(chol_nhd)\n",
    "plt.show()\n",
    "print('The mean for chol levels in our dataset is: ' + str(chol_nhd.mean()))\n",
    "t_stat, p = stats.ttest_1samp(chol_nhd, 240, alternative= 'greater')\n",
    "print(p) "
   ]
  },
  {
   "cell_type": "markdown",
   "id": "a2fbb205",
   "metadata": {},
   "source": [
    "### Fasting Blood Sugar Analysis"
   ]
  },
  {
   "cell_type": "markdown",
   "id": "4d4c8f09",
   "metadata": {},
   "source": [
    "How many patients are there in this dataset? \n",
    "\n",
    "The fbs column of this dataset indicates whether or not a patient’s fasting blood sugar was greater than 120 mg/dl (1 means that their fasting blood sugar was greater than 120 mg/dl; 0 means it was less than or equal to 120 mg/dl).\n",
    "\n",
    "We will calculate the number of patients with fasting blood sugar greater than 12 and save this number as num_highfbs_patients and print it out."
   ]
  },
  {
   "cell_type": "code",
   "execution_count": 37,
   "id": "0ca01246",
   "metadata": {},
   "outputs": [
    {
     "name": "stdout",
     "output_type": "stream",
     "text": [
      "303\n",
      "45\n",
      "258\n"
     ]
    }
   ],
   "source": [
    "print(len(heart))\n",
    "num_highfbs_patients= heart[heart.fbs == 1]\n",
    "num_lowfbs_patients= heart[heart.fbs == 0]\n",
    "\n",
    "print(len(num_highfbs_patients))\n",
    "print(len(num_lowfbs_patients))"
   ]
  },
  {
   "cell_type": "markdown",
   "id": "f7329a7f",
   "metadata": {},
   "source": [
    "Sometimes, part of an analysis will involve comparing a sample to known population values to see if the sample appears to be representative of the general population.\n",
    "\n",
    "By some estimates, about 8% of the U.S. population had diabetes (diagnosed or undiagnosed) in 1988 when this data was collected. \n",
    "While there are multiple tests that contribute to a diabetes diagnosis, fasting blood sugar levels greater than 120 mg/dl can be indicative of diabetes (or at least, pre-diabetes). If this sample were representative of the population, approximately how many people would you expect to have diabetes?"
   ]
  },
  {
   "cell_type": "code",
   "execution_count": 38,
   "id": "232ded2e",
   "metadata": {},
   "outputs": [
    {
     "name": "stdout",
     "output_type": "stream",
     "text": [
      "24.240000000000002\n"
     ]
    }
   ],
   "source": [
    "estimated_diab = len(heart) * 0.08\n",
    "print(estimated_diab)\n",
    "\n"
   ]
  },
  {
   "cell_type": "markdown",
   "id": "69836772",
   "metadata": {},
   "source": [
    "Does this sample come from a population in which the rate of fbs > 120 mg/dl is equal to 8%? Import the function from scipy.stats that you can use to test the following null and alternative hypotheses:\n",
    "\n",
    "- Null: This sample was drawn from a population where 8% of people have fasting blood sugar > 120 mg/dl\n",
    "- Alternative: This sample was drawn from a population where more than 8% of people have fasting blood sugar > 120 mg/dl"
   ]
  },
  {
   "cell_type": "code",
   "execution_count": 41,
   "id": "e195682c",
   "metadata": {},
   "outputs": [
    {
     "name": "stdout",
     "output_type": "stream",
     "text": [
      "4.689471951448875e-05\n"
     ]
    }
   ],
   "source": [
    "p = stats.binom_test(45, n=303, p=0.08, alternative= 'greater')\n",
    "print(p)"
   ]
  },
  {
   "cell_type": "markdown",
   "id": "5bb6e8ff",
   "metadata": {},
   "source": [
    "The binom_test() function takes four parameters (in order):\n",
    "\n",
    "1. The observed number of “successes” (in this case, the number of people in the sample who had fasting blood sugar greater than 120 mg/dl)\n",
    "\n",
    "2. The number of “trials” (in this case, the number of patients)\n",
    "\n",
    "3. The null probability of “success” (in this case, 0.08)\n",
    "\n",
    "3. The alternative parameter, which indicates the alternative hypothesis for the test (eg.,'two-sided' 'greater' or 'less')\n",
    "\n",
    "The output is the p-value.\n",
    "\n",
    "If you run the test correctly, you should get a p-value of 4.689471951449078e-05 which is equivalent to 0.0000469 (the e-5 at the end indicates scientific notation). This is less than 0.05, indicating that this sample likely comes from a population where more than 8% of people have fbs > 120 mg/dl."
   ]
  },
  {
   "cell_type": "code",
   "execution_count": null,
   "id": "cdec0ce8",
   "metadata": {},
   "outputs": [],
   "source": []
  }
 ],
 "metadata": {
  "kernelspec": {
   "display_name": "Python 3 (ipykernel)",
   "language": "python",
   "name": "python3"
  },
  "language_info": {
   "codemirror_mode": {
    "name": "ipython",
    "version": 3
   },
   "file_extension": ".py",
   "mimetype": "text/x-python",
   "name": "python",
   "nbconvert_exporter": "python",
   "pygments_lexer": "ipython3",
   "version": "3.9.7"
  }
 },
 "nbformat": 4,
 "nbformat_minor": 5
}
